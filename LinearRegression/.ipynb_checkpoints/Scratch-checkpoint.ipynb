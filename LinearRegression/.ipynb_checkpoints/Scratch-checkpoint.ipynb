{
 "cells": [
  {
   "cell_type": "code",
   "execution_count": 1,
   "metadata": {},
   "outputs": [
    {
     "name": "stdout",
     "output_type": "stream",
     "text": [
      "0     0\n",
      "1     0\n",
      "2     0\n",
      "3     0\n",
      "4     0\n",
      "5     0\n",
      "6     0\n",
      "7     0\n",
      "8     0\n",
      "9     0\n",
      "10    0\n",
      "11    0\n",
      "12    0\n",
      "13    0\n",
      "dtype: int64\n"
     ]
    },
    {
     "data": {
      "text/html": [
       "<div>\n",
       "<style scoped>\n",
       "    .dataframe tbody tr th:only-of-type {\n",
       "        vertical-align: middle;\n",
       "    }\n",
       "\n",
       "    .dataframe tbody tr th {\n",
       "        vertical-align: top;\n",
       "    }\n",
       "\n",
       "    .dataframe thead th {\n",
       "        text-align: right;\n",
       "    }\n",
       "</style>\n",
       "<table border=\"1\" class=\"dataframe\">\n",
       "  <thead>\n",
       "    <tr style=\"text-align: right;\">\n",
       "      <th></th>\n",
       "      <th>CRIM</th>\n",
       "      <th>ZN</th>\n",
       "      <th>INDUS</th>\n",
       "      <th>CHAS</th>\n",
       "      <th>NOX</th>\n",
       "      <th>RM</th>\n",
       "      <th>AGE</th>\n",
       "      <th>DIS</th>\n",
       "      <th>RAD</th>\n",
       "      <th>TAX</th>\n",
       "      <th>PTRATIO</th>\n",
       "      <th>B</th>\n",
       "      <th>LSTAT</th>\n",
       "      <th>MEDV</th>\n",
       "    </tr>\n",
       "  </thead>\n",
       "  <tbody>\n",
       "    <tr>\n",
       "      <th>0</th>\n",
       "      <td>0.00632</td>\n",
       "      <td>18.00</td>\n",
       "      <td>2.310</td>\n",
       "      <td>0</td>\n",
       "      <td>0.5380</td>\n",
       "      <td>6.5750</td>\n",
       "      <td>65.20</td>\n",
       "      <td>4.0900</td>\n",
       "      <td>1</td>\n",
       "      <td>296.0</td>\n",
       "      <td>15.30</td>\n",
       "      <td>396.90</td>\n",
       "      <td>4.98</td>\n",
       "      <td>24.00</td>\n",
       "    </tr>\n",
       "    <tr>\n",
       "      <th>1</th>\n",
       "      <td>0.02731</td>\n",
       "      <td>0.00</td>\n",
       "      <td>7.070</td>\n",
       "      <td>0</td>\n",
       "      <td>0.4690</td>\n",
       "      <td>6.4210</td>\n",
       "      <td>78.90</td>\n",
       "      <td>4.9671</td>\n",
       "      <td>2</td>\n",
       "      <td>242.0</td>\n",
       "      <td>17.80</td>\n",
       "      <td>396.90</td>\n",
       "      <td>9.14</td>\n",
       "      <td>21.60</td>\n",
       "    </tr>\n",
       "    <tr>\n",
       "      <th>2</th>\n",
       "      <td>0.02729</td>\n",
       "      <td>0.00</td>\n",
       "      <td>7.070</td>\n",
       "      <td>0</td>\n",
       "      <td>0.4690</td>\n",
       "      <td>7.1850</td>\n",
       "      <td>61.10</td>\n",
       "      <td>4.9671</td>\n",
       "      <td>2</td>\n",
       "      <td>242.0</td>\n",
       "      <td>17.80</td>\n",
       "      <td>392.83</td>\n",
       "      <td>4.03</td>\n",
       "      <td>34.70</td>\n",
       "    </tr>\n",
       "    <tr>\n",
       "      <th>3</th>\n",
       "      <td>0.03237</td>\n",
       "      <td>0.00</td>\n",
       "      <td>2.180</td>\n",
       "      <td>0</td>\n",
       "      <td>0.4580</td>\n",
       "      <td>6.9980</td>\n",
       "      <td>45.80</td>\n",
       "      <td>6.0622</td>\n",
       "      <td>3</td>\n",
       "      <td>222.0</td>\n",
       "      <td>18.70</td>\n",
       "      <td>394.63</td>\n",
       "      <td>2.94</td>\n",
       "      <td>33.40</td>\n",
       "    </tr>\n",
       "    <tr>\n",
       "      <th>4</th>\n",
       "      <td>0.06905</td>\n",
       "      <td>0.00</td>\n",
       "      <td>2.180</td>\n",
       "      <td>0</td>\n",
       "      <td>0.4580</td>\n",
       "      <td>7.1470</td>\n",
       "      <td>54.20</td>\n",
       "      <td>6.0622</td>\n",
       "      <td>3</td>\n",
       "      <td>222.0</td>\n",
       "      <td>18.70</td>\n",
       "      <td>396.90</td>\n",
       "      <td>5.33</td>\n",
       "      <td>36.20</td>\n",
       "    </tr>\n",
       "  </tbody>\n",
       "</table>\n",
       "</div>"
      ],
      "text/plain": [
       "      CRIM     ZN  INDUS CHAS     NOX      RM    AGE     DIS RAD    TAX  \\\n",
       "0  0.00632  18.00  2.310    0  0.5380  6.5750  65.20  4.0900   1  296.0   \n",
       "1  0.02731   0.00  7.070    0  0.4690  6.4210  78.90  4.9671   2  242.0   \n",
       "2  0.02729   0.00  7.070    0  0.4690  7.1850  61.10  4.9671   2  242.0   \n",
       "3  0.03237   0.00  2.180    0  0.4580  6.9980  45.80  6.0622   3  222.0   \n",
       "4  0.06905   0.00  2.180    0  0.4580  7.1470  54.20  6.0622   3  222.0   \n",
       "\n",
       "  PTRATIO       B LSTAT   MEDV  \n",
       "0   15.30  396.90  4.98  24.00  \n",
       "1   17.80  396.90  9.14  21.60  \n",
       "2   17.80  392.83  4.03  34.70  \n",
       "3   18.70  394.63  2.94  33.40  \n",
       "4   18.70  396.90  5.33  36.20  "
      ]
     },
     "execution_count": 1,
     "metadata": {},
     "output_type": "execute_result"
    }
   ],
   "source": [
    "import numpy as np\n",
    "import matplotlib.pyplot as plt\n",
    "import pandas as pd\n",
    "\n",
    "\n",
    "#load dataset\n",
    "dataset = pd.read_csv('data.txt',header=None)\n",
    "\n",
    "#split dataset whitespace into columns\n",
    "dataset = pd.DataFrame(dataset[0].str.split(expand=True))\n",
    "\n",
    "#look for missing values\n",
    "print(dataset.isnull().sum())\n",
    "\n",
    "col_names = ['CRIM', 'ZN', 'INDUS', 'CHAS', 'NOX', 'RM', 'AGE', 'DIS', 'RAD', 'TAX', 'PTRATIO','B', 'LSTAT', 'MEDV']\n",
    "\n",
    "dataset.columns = col_names\n",
    "\n",
    "dataset.head()\n"
   ]
  },
  {
   "cell_type": "code",
   "execution_count": 2,
   "metadata": {},
   "outputs": [
    {
     "data": {
      "text/plain": [
       "CRIM       object\n",
       "ZN         object\n",
       "INDUS      object\n",
       "CHAS       object\n",
       "NOX        object\n",
       "RM         object\n",
       "AGE        object\n",
       "DIS        object\n",
       "RAD        object\n",
       "TAX        object\n",
       "PTRATIO    object\n",
       "B          object\n",
       "LSTAT      object\n",
       "MEDV       object\n",
       "dtype: object"
      ]
     },
     "execution_count": 2,
     "metadata": {},
     "output_type": "execute_result"
    }
   ],
   "source": [
    "dataset.dtypes"
   ]
  },
  {
   "cell_type": "code",
   "execution_count": 3,
   "metadata": {},
   "outputs": [],
   "source": [
    "dataset_float = dataset.astype(float)"
   ]
  },
  {
   "cell_type": "code",
   "execution_count": 4,
   "metadata": {},
   "outputs": [
    {
     "data": {
      "text/plain": [
       "CRIM       float64\n",
       "ZN         float64\n",
       "INDUS      float64\n",
       "CHAS       float64\n",
       "NOX        float64\n",
       "RM         float64\n",
       "AGE        float64\n",
       "DIS        float64\n",
       "RAD        float64\n",
       "TAX        float64\n",
       "PTRATIO    float64\n",
       "B          float64\n",
       "LSTAT      float64\n",
       "MEDV       float64\n",
       "dtype: object"
      ]
     },
     "execution_count": 4,
     "metadata": {},
     "output_type": "execute_result"
    }
   ],
   "source": [
    "dataset_float.dtypes"
   ]
  },
  {
   "cell_type": "code",
   "execution_count": 5,
   "metadata": {},
   "outputs": [],
   "source": [
    "X = dataset.iloc[: , 0:13].values\n",
    "y = dataset.iloc[ : ,13].values"
   ]
  },
  {
   "cell_type": "code",
   "execution_count": 6,
   "metadata": {},
   "outputs": [],
   "source": [
    "X = X.astype(float)\n",
    "y = y.astype(float)"
   ]
  },
  {
   "cell_type": "code",
   "execution_count": 7,
   "metadata": {},
   "outputs": [
    {
     "name": "stdout",
     "output_type": "stream",
     "text": [
      "X: (506, 13)\n",
      "y: (506,)\n"
     ]
    }
   ],
   "source": [
    "print('X:',X.shape)\n",
    "print('y:',y.shape)"
   ]
  },
  {
   "cell_type": "code",
   "execution_count": null,
   "metadata": {},
   "outputs": [],
   "source": [
    "# Dealing with categorical variables\n",
    "# from the scikit.preprocessing library we first import the Label Encoder class\n",
    "from sklearn.preprocessing import LabelEncoder, OneHotEncoder\n",
    "labelEncoder_X = LabelEncoder()\n",
    "X[: , 3] = labelEncoder_X.fit_transform(X[ : , 3])\n",
    "# OneHotEncoder class avoids categorical variables from being evaluated by their int value\n",
    "oneHotEncoder = OneHotEncoder(categorical_features = [3])\n",
    "# toarray() method is used to return an ndarray \n",
    "X = oneHotEncoder.fit_transform(X).toarray()\n",
    "\n",
    "# remove the extra dummy variable\n",
    "X = X[: , 1:]\n",
    "print(X.shape)\n",
    "X"
   ]
  },
  {
   "cell_type": "code",
   "execution_count": null,
   "metadata": {},
   "outputs": [],
   "source": [
    "X[0:5,:]"
   ]
  },
  {
   "cell_type": "code",
   "execution_count": 8,
   "metadata": {},
   "outputs": [],
   "source": [
    "X = np.append(arr = np.ones((506,1)).astype(int), values = X, axis = 1)\n"
   ]
  },
  {
   "cell_type": "code",
   "execution_count": 9,
   "metadata": {},
   "outputs": [
    {
     "name": "stdout",
     "output_type": "stream",
     "text": [
      "X: (506, 14)\n",
      "y: (506,)\n"
     ]
    }
   ],
   "source": [
    "print('X:',X.shape)\n",
    "print('y:',y.shape)"
   ]
  },
  {
   "cell_type": "code",
   "execution_count": 10,
   "metadata": {},
   "outputs": [],
   "source": [
    "#split data into Training and Test set\n",
    "from sklearn.model_selection import train_test_split\n",
    "X_train, X_test, y_train, y_test = train_test_split(X, y, test_size = 0.3, random_state = 0)"
   ]
  },
  {
   "cell_type": "markdown",
   "metadata": {},
   "source": [
    "## MODEL 1\n",
    "* first add columns of ones, then normalize equations, multiply weights with x test to make a prediction using dot product\n",
    "\n"
   ]
  },
  {
   "cell_type": "code",
   "execution_count": 11,
   "metadata": {},
   "outputs": [
    {
     "name": "stdout",
     "output_type": "stream",
     "text": [
      "X: (506, 14)\n",
      "y: (506,)\n",
      "X_train: (354, 14)\n",
      "X_test (152, 14)\n",
      "y_train (354,)\n",
      "y_test (152,)\n"
     ]
    }
   ],
   "source": [
    "print('X:',X.shape)\n",
    "print('y:',y.shape)\n",
    "print('X_train:',X_train.shape)\n",
    "print('X_test',X_test.shape)\n",
    "print('y_train',y_train.shape)\n",
    "print('y_test',y_test.shape)"
   ]
  },
  {
   "cell_type": "code",
   "execution_count": 12,
   "metadata": {},
   "outputs": [
    {
     "data": {
      "text/plain": [
       "array([1.000e+00, 6.320e-03, 1.800e+01, 2.310e+00, 0.000e+00, 5.380e-01,\n",
       "       6.575e+00, 6.520e+01, 4.090e+00, 1.000e+00, 2.960e+02, 1.530e+01,\n",
       "       3.969e+02, 4.980e+00])"
      ]
     },
     "execution_count": 12,
     "metadata": {},
     "output_type": "execute_result"
    }
   ],
   "source": [
    "X[0]"
   ]
  },
  {
   "cell_type": "code",
   "execution_count": 13,
   "metadata": {},
   "outputs": [
    {
     "data": {
      "text/plain": [
       "array([  1.     ,   1.62864,   0.     ,  21.89   ,   0.     ,   0.624  ,\n",
       "         5.019  , 100.     ,   1.4394 ,   4.     , 437.     ,  21.2    ,\n",
       "       396.9    ,  34.41   ])"
      ]
     },
     "execution_count": 13,
     "metadata": {},
     "output_type": "execute_result"
    }
   ],
   "source": [
    "X_train[0]"
   ]
  },
  {
   "cell_type": "code",
   "execution_count": 14,
   "metadata": {},
   "outputs": [],
   "source": [
    "# Need to add a column of ones to X (corresponding to intercept term)\n",
    "# X_train = np.append(arr = np.ones((354,1)).astype(int), values = X_train, axis = 1)\n",
    "# X_test = np.append(arr = np.ones((152,1)).astype(int), values = X_test, axis = 1)\n"
   ]
  },
  {
   "cell_type": "code",
   "execution_count": 15,
   "metadata": {},
   "outputs": [
    {
     "name": "stdout",
     "output_type": "stream",
     "text": [
      "X: (506, 14)\n",
      "y: (506,)\n",
      "X_train: (354, 14)\n",
      "X_test (152, 14)\n",
      "y_train (354,)\n",
      "y_test (152,)\n"
     ]
    }
   ],
   "source": [
    "print('X:',X.shape)\n",
    "print('y:',y.shape)\n",
    "print('X_train:',X_train.shape)\n",
    "print('X_test',X_test.shape)\n",
    "print('y_train',y_train.shape)\n",
    "print('y_test',y_test.shape)"
   ]
  },
  {
   "cell_type": "code",
   "execution_count": 16,
   "metadata": {},
   "outputs": [
    {
     "data": {
      "text/plain": [
       "array([  1.     ,   1.62864,   0.     ,  21.89   ,   0.     ,   0.624  ,\n",
       "         5.019  , 100.     ,   1.4394 ,   4.     , 437.     ,  21.2    ,\n",
       "       396.9    ,  34.41   ])"
      ]
     },
     "execution_count": 16,
     "metadata": {},
     "output_type": "execute_result"
    }
   ],
   "source": [
    "X_train[0]"
   ]
  },
  {
   "cell_type": "code",
   "execution_count": 17,
   "metadata": {},
   "outputs": [],
   "source": [
    "# Normalizing the features\n",
    "# from sklearn.preprocessing import StandardScaler\n",
    "# sc_X = StandardScaler()\n",
    "# X_train = sc_X.fit_transform(X_train)\n",
    "# X_test = sc_X.transform(X_test)"
   ]
  },
  {
   "cell_type": "code",
   "execution_count": 18,
   "metadata": {},
   "outputs": [],
   "source": [
    "xTx = X_train.T.dot(X_train)"
   ]
  },
  {
   "cell_type": "code",
   "execution_count": 19,
   "metadata": {},
   "outputs": [],
   "source": [
    "xTx = np.linalg.inv(xTx)"
   ]
  },
  {
   "cell_type": "code",
   "execution_count": 20,
   "metadata": {},
   "outputs": [],
   "source": [
    "xTx_xT = xTx.dot(X_train.T)"
   ]
  },
  {
   "cell_type": "code",
   "execution_count": 21,
   "metadata": {},
   "outputs": [],
   "source": [
    "w = xTx_xT.dot(y_train)"
   ]
  },
  {
   "cell_type": "code",
   "execution_count": 22,
   "metadata": {},
   "outputs": [
    {
     "data": {
      "text/plain": [
       "array([ 3.79371077e+01, -1.21310401e-01,  4.44664254e-02,  1.13416945e-02,\n",
       "        2.51124642e+00, -1.62312529e+01,  3.85906801e+00, -9.98516565e-03,\n",
       "       -1.50026956e+00,  2.42143466e-01, -1.10716124e-02, -1.01775264e+00,\n",
       "        6.81446545e-03, -4.86738066e-01])"
      ]
     },
     "execution_count": 22,
     "metadata": {},
     "output_type": "execute_result"
    }
   ],
   "source": [
    "# (XTX)^-1 XTy\n",
    "w"
   ]
  },
  {
   "cell_type": "code",
   "execution_count": 23,
   "metadata": {},
   "outputs": [
    {
     "data": {
      "text/plain": [
       "array([ 1.66133921e+00, -1.02127659e-04, -1.57616007e-04,  1.43340003e-03,\n",
       "       -1.17056237e-02, -6.97059989e-01, -9.92515088e-02,  3.97621068e-04,\n",
       "       -2.26749787e-02,  6.22892307e-03, -1.30722571e-04, -2.42296929e-02,\n",
       "       -2.48126204e-04, -5.50229262e-03])"
      ]
     },
     "execution_count": 23,
     "metadata": {},
     "output_type": "execute_result"
    }
   ],
   "source": [
    "xTx[0]"
   ]
  },
  {
   "cell_type": "code",
   "execution_count": 24,
   "metadata": {},
   "outputs": [
    {
     "data": {
      "text/plain": [
       "array([[-6.71297485e-02,  2.86512764e-02, -1.17004473e-01, ...,\n",
       "         6.23842093e-02,  1.90654118e-02,  1.45851082e-01],\n",
       "       [-3.59765137e-04,  2.52463381e-05, -2.46578636e-05, ...,\n",
       "        -6.43318902e-05, -7.49277350e-05, -1.84803896e-04],\n",
       "       [ 1.79967346e-04,  1.32934324e-04,  1.13644585e-04, ...,\n",
       "        -8.99901507e-05, -2.34452620e-04, -4.85203694e-05],\n",
       "       ...,\n",
       "       [ 1.55354534e-03,  1.12416223e-03,  2.75592736e-03, ...,\n",
       "        -9.43546795e-04, -2.03127996e-03, -2.15434802e-03],\n",
       "       [ 3.84141778e-05, -3.97544492e-06,  1.42068851e-05, ...,\n",
       "         5.08755925e-06,  1.24516226e-05,  6.63620947e-06],\n",
       "       [ 2.14151128e-03, -3.25790533e-04,  1.63850220e-04, ...,\n",
       "        -5.99385743e-04,  9.14849809e-04, -1.36780237e-04]])"
      ]
     },
     "execution_count": 24,
     "metadata": {},
     "output_type": "execute_result"
    }
   ],
   "source": [
    "xTx_xT"
   ]
  },
  {
   "cell_type": "code",
   "execution_count": 25,
   "metadata": {},
   "outputs": [
    {
     "name": "stdout",
     "output_type": "stream",
     "text": [
      "(152,)\n"
     ]
    },
    {
     "data": {
      "text/plain": [
       "array([24.9357079 , 23.75163164, 29.32638296, 11.97534566, 21.37272478,\n",
       "       19.19148525, 20.5717479 , 21.21154015, 19.04572003, 20.35463238,\n",
       "        5.44119126, 16.93688709, 17.15482272,  5.3928209 , 40.20270696,\n",
       "       32.31327348, 22.46213268, 36.50124666, 31.03737014, 23.17124551,\n",
       "       24.74815321, 24.49939403, 20.6595791 , 30.4547583 , 22.32487164,\n",
       "       10.18932894, 17.44286422, 18.26103077, 35.63299326, 20.81960303,\n",
       "       18.27218007, 17.72047628, 19.33772473, 23.62254823, 28.97766856,\n",
       "       19.45036239, 11.13170639, 24.81843595, 18.05294835, 15.59712226,\n",
       "       26.21043403, 20.81140432, 22.17349382, 15.48367365, 22.62261604,\n",
       "       24.88561528, 19.74754478, 23.0465628 ,  9.84579105, 24.36378793,\n",
       "       21.47849008, 17.62118176, 24.39160873, 29.95102691, 13.57219422,\n",
       "       21.53645439, 20.53306273, 15.03433182, 14.3232289 , 22.11929299,\n",
       "       17.07321915, 21.54141094, 32.96766968, 31.371599  , 17.7860591 ,\n",
       "       32.75069556, 18.74795323, 19.21428022, 19.41970047, 23.08087809,\n",
       "       22.87732816, 24.06399098, 30.52824406, 28.71453508, 25.90763165,\n",
       "        5.17596718, 36.8709072 , 23.76983849, 27.26064379, 19.25849042,\n",
       "       28.41860517, 19.3008798 , 18.94922353, 38.00154059, 39.44096748,\n",
       "       23.72297885, 24.83722534, 16.52015743, 25.9970546 , 16.73997072,\n",
       "       15.48656983, 13.52825536, 24.12884363, 30.76919578, 22.18731163,\n",
       "       19.8848644 ,  0.42275479, 24.86785849, 16.05692   , 17.42486412,\n",
       "       25.49798527, 22.35171315, 32.66562689, 22.04428746, 27.29799885,\n",
       "       23.20302026,  6.86196574, 14.869251  , 22.31804948, 29.18125768,\n",
       "       33.22568234, 13.24392523, 19.67195771, 20.7502616 , 12.02271319,\n",
       "       23.50067006,  5.55662571, 19.87634689,  9.27059783, 44.81787339,\n",
       "       30.56017983, 12.44394048, 17.33192202, 21.48313292, 23.52664913,\n",
       "       20.49877266, 35.09161099, 13.22639935, 20.70321163, 35.35582833,\n",
       "       19.45050576, 13.81603561, 14.15654562, 23.03678503, 15.07521258,\n",
       "       30.9662041 , 25.23236632, 15.43763716, 24.06406534,  9.93080346,\n",
       "       15.01618901, 21.06098873, 32.87115732, 27.80927747, 25.91293794,\n",
       "       15.27877362, 30.97489404, 27.81107682, 14.5068157 ,  7.57369946,\n",
       "       28.3348068 , 25.04341153])"
      ]
     },
     "execution_count": 25,
     "metadata": {},
     "output_type": "execute_result"
    }
   ],
   "source": [
    "predictions = X_test.dot(w)\n",
    "print(predictions.shape)\n",
    "predictions"
   ]
  },
  {
   "cell_type": "code",
   "execution_count": 26,
   "metadata": {},
   "outputs": [
    {
     "name": "stdout",
     "output_type": "stream",
     "text": [
      "(152,)\n"
     ]
    },
    {
     "data": {
      "text/plain": [
       "array([22.6, 50. , 23. ,  8.3, 21.2, 19.9, 20.6, 18.7, 16.1, 18.6,  8.8,\n",
       "       17.2, 14.9, 10.5, 50. , 29. , 23. , 33.3, 29.4, 21. , 23.8, 19.1,\n",
       "       20.4, 29.1, 19.3, 23.1, 19.6, 19.4, 38.7, 18.7, 14.6, 20. , 20.5,\n",
       "       20.1, 23.6, 16.8,  5.6, 50. , 14.5, 13.3, 23.9, 20. , 19.8, 13.8,\n",
       "       16.5, 21.6, 20.3, 17. , 11.8, 27.5, 15.6, 23.1, 24.3, 42.8, 15.6,\n",
       "       21.7, 17.1, 17.2, 15. , 21.7, 18.6, 21. , 33.1, 31.5, 20.1, 29.8,\n",
       "       15.2, 15. , 27.5, 22.6, 20. , 21.4, 23.5, 31.2, 23.7,  7.4, 48.3,\n",
       "       24.4, 22.6, 18.3, 23.3, 17.1, 27.9, 44.8, 50. , 23. , 21.4, 10.2,\n",
       "       23.3, 23.2, 18.9, 13.4, 21.9, 24.8, 11.9, 24.3, 13.8, 24.7, 14.1,\n",
       "       18.7, 28.1, 19.8, 26.7, 21.7, 22. , 22.9, 10.4, 21.9, 20.6, 26.4,\n",
       "       41.3, 17.2, 27.1, 20.4, 16.5, 24.4,  8.4, 23. ,  9.7, 50. , 30.5,\n",
       "       12.3, 19.4, 21.2, 20.3, 18.8, 33.4, 18.5, 19.6, 33.2, 13.1,  7.5,\n",
       "       13.6, 17.4,  8.4, 35.4, 24. , 13.4, 26.2,  7.2, 13.1, 24.5, 37.2,\n",
       "       25. , 24.1, 16.6, 32.9, 36.2, 11. ,  7.2, 22.8, 28.7])"
      ]
     },
     "execution_count": 26,
     "metadata": {},
     "output_type": "execute_result"
    }
   ],
   "source": [
    "print(y_test.shape)\n",
    "y_test"
   ]
  },
  {
   "cell_type": "code",
   "execution_count": 27,
   "metadata": {},
   "outputs": [
    {
     "data": {
      "text/plain": [
       "27.19596576688312"
      ]
     },
     "execution_count": 27,
     "metadata": {},
     "output_type": "execute_result"
    }
   ],
   "source": [
    "#Mean Squared Error\n",
    "mse_m1 = np.square(np.subtract(predictions, y_test)).mean()\n",
    "mse_m1\n",
    "#27.195965766884157 encoding categorical variable\n",
    "#27.19596576688312 witouth using categorical variable encoder"
   ]
  },
  {
   "cell_type": "markdown",
   "metadata": {},
   "source": [
    "## MODEL 2"
   ]
  },
  {
   "cell_type": "code",
   "execution_count": 28,
   "metadata": {},
   "outputs": [
    {
     "data": {
      "text/plain": [
       "LinearRegression(copy_X=True, fit_intercept=True, n_jobs=1, normalize=False)"
      ]
     },
     "execution_count": 28,
     "metadata": {},
     "output_type": "execute_result"
    }
   ],
   "source": [
    "#Fitting Multiple Linear Regression to Training Set\n",
    "# import LinearRegression class from scikit-learn\n",
    "# initialize a LinearRegression object and fit X and y train sets\n",
    "from sklearn.linear_model import LinearRegression\n",
    "mlrObj = LinearRegression()\n",
    "mlrObj.fit(X_train, y_train)"
   ]
  },
  {
   "cell_type": "code",
   "execution_count": null,
   "metadata": {},
   "outputs": [],
   "source": []
  },
  {
   "cell_type": "code",
   "execution_count": 29,
   "metadata": {},
   "outputs": [
    {
     "data": {
      "text/plain": [
       "array([ 0.00000000e+00, -1.21310401e-01,  4.44664254e-02,  1.13416945e-02,\n",
       "        2.51124642e+00, -1.62312529e+01,  3.85906801e+00, -9.98516565e-03,\n",
       "       -1.50026956e+00,  2.42143466e-01, -1.10716124e-02, -1.01775264e+00,\n",
       "        6.81446545e-03, -4.86738066e-01])"
      ]
     },
     "execution_count": 29,
     "metadata": {},
     "output_type": "execute_result"
    }
   ],
   "source": [
    "# weight parameters\n",
    "\n",
    "mlrObj.coef_"
   ]
  },
  {
   "cell_type": "code",
   "execution_count": 30,
   "metadata": {},
   "outputs": [
    {
     "data": {
      "text/plain": [
       "array([[1.00000e+00, 1.62864e+00, 0.00000e+00, ..., 2.12000e+01,\n",
       "        3.96900e+02, 3.44100e+01],\n",
       "       [1.00000e+00, 1.14600e-01, 2.00000e+01, ..., 1.86000e+01,\n",
       "        3.94960e+02, 7.73000e+00],\n",
       "       [1.00000e+00, 5.57780e-01, 0.00000e+00, ..., 2.12000e+01,\n",
       "        3.94670e+02, 1.69600e+01],\n",
       "       ...,\n",
       "       [1.00000e+00, 1.50980e-01, 0.00000e+00, ..., 1.78000e+01,\n",
       "        3.94510e+02, 1.03000e+01],\n",
       "       [1.00000e+00, 2.29270e-01, 0.00000e+00, ..., 1.79000e+01,\n",
       "        3.92740e+02, 1.88000e+01],\n",
       "       [1.00000e+00, 1.39140e-01, 0.00000e+00, ..., 1.66000e+01,\n",
       "        3.96900e+02, 1.46900e+01]])"
      ]
     },
     "execution_count": 30,
     "metadata": {},
     "output_type": "execute_result"
    }
   ],
   "source": [
    "X_train"
   ]
  },
  {
   "cell_type": "code",
   "execution_count": 31,
   "metadata": {},
   "outputs": [
    {
     "data": {
      "text/plain": [
       "array([  1.     ,   1.62864,   0.     ,  21.89   ,   0.     ,   0.624  ,\n",
       "         5.019  , 100.     ,   1.4394 ,   4.     , 437.     ,  21.2    ,\n",
       "       396.9    ,  34.41   ])"
      ]
     },
     "execution_count": 31,
     "metadata": {},
     "output_type": "execute_result"
    }
   ],
   "source": [
    "X_train[0]"
   ]
  },
  {
   "cell_type": "code",
   "execution_count": 32,
   "metadata": {},
   "outputs": [
    {
     "name": "stdout",
     "output_type": "stream",
     "text": [
      "Test Set: \n",
      " [22.6 50.  23.   8.3 21.2 19.9 20.6 18.7 16.1 18.6  8.8 17.2 14.9 10.5\n",
      " 50.  29.  23.  33.3 29.4 21.  23.8 19.1 20.4 29.1 19.3 23.1 19.6 19.4\n",
      " 38.7 18.7 14.6 20.  20.5 20.1 23.6 16.8  5.6 50.  14.5 13.3 23.9 20.\n",
      " 19.8 13.8 16.5 21.6 20.3 17.  11.8 27.5 15.6 23.1 24.3 42.8 15.6 21.7\n",
      " 17.1 17.2 15.  21.7 18.6 21.  33.1 31.5 20.1 29.8 15.2 15.  27.5 22.6\n",
      " 20.  21.4 23.5 31.2 23.7  7.4 48.3 24.4 22.6 18.3 23.3 17.1 27.9 44.8\n",
      " 50.  23.  21.4 10.2 23.3 23.2 18.9 13.4 21.9 24.8 11.9 24.3 13.8 24.7\n",
      " 14.1 18.7 28.1 19.8 26.7 21.7 22.  22.9 10.4 21.9 20.6 26.4 41.3 17.2\n",
      " 27.1 20.4 16.5 24.4  8.4 23.   9.7 50.  30.5 12.3 19.4 21.2 20.3 18.8\n",
      " 33.4 18.5 19.6 33.2 13.1  7.5 13.6 17.4  8.4 35.4 24.  13.4 26.2  7.2\n",
      " 13.1 24.5 37.2 25.  24.1 16.6 32.9 36.2 11.   7.2 22.8 28.7] \n",
      "\n",
      "Predict Set: \n",
      " [24.9357079  23.75163164 29.32638296 11.97534566 21.37272478 19.19148525\n",
      " 20.5717479  21.21154015 19.04572003 20.35463238  5.44119126 16.93688709\n",
      " 17.15482272  5.3928209  40.20270696 32.31327348 22.46213268 36.50124666\n",
      " 31.03737014 23.17124551 24.74815321 24.49939403 20.6595791  30.4547583\n",
      " 22.32487164 10.18932894 17.44286422 18.26103077 35.63299326 20.81960303\n",
      " 18.27218007 17.72047628 19.33772473 23.62254823 28.97766856 19.45036239\n",
      " 11.13170639 24.81843595 18.05294835 15.59712226 26.21043403 20.81140432\n",
      " 22.17349382 15.48367365 22.62261604 24.88561528 19.74754478 23.0465628\n",
      "  9.84579105 24.36378793 21.47849008 17.62118176 24.39160873 29.95102691\n",
      " 13.57219422 21.53645439 20.53306273 15.03433182 14.3232289  22.11929299\n",
      " 17.07321915 21.54141094 32.96766968 31.371599   17.7860591  32.75069556\n",
      " 18.74795323 19.21428022 19.41970047 23.08087809 22.87732816 24.06399098\n",
      " 30.52824406 28.71453508 25.90763165  5.17596718 36.8709072  23.76983849\n",
      " 27.26064379 19.25849042 28.41860517 19.3008798  18.94922353 38.00154059\n",
      " 39.44096748 23.72297885 24.83722534 16.52015743 25.9970546  16.73997072\n",
      " 15.48656983 13.52825536 24.12884363 30.76919578 22.18731163 19.8848644\n",
      "  0.42275479 24.86785849 16.05692    17.42486412 25.49798527 22.35171315\n",
      " 32.66562689 22.04428746 27.29799885 23.20302026  6.86196574 14.869251\n",
      " 22.31804948 29.18125768 33.22568234 13.24392523 19.67195771 20.7502616\n",
      " 12.02271319 23.50067006  5.55662571 19.87634689  9.27059783 44.81787339\n",
      " 30.56017983 12.44394048 17.33192202 21.48313292 23.52664913 20.49877266\n",
      " 35.09161099 13.22639935 20.70321163 35.35582833 19.45050576 13.81603561\n",
      " 14.15654562 23.03678503 15.07521258 30.9662041  25.23236632 15.43763716\n",
      " 24.06406534  9.93080346 15.01618901 21.06098873 32.87115732 27.80927747\n",
      " 25.91293794 15.27877362 30.97489404 27.81107682 14.5068157   7.57369946\n",
      " 28.3348068  25.04341153]\n"
     ]
    },
    {
     "data": {
      "text/plain": [
       "27.195965766883194"
      ]
     },
     "execution_count": 32,
     "metadata": {},
     "output_type": "execute_result"
    }
   ],
   "source": [
    "# Predicting on Test Set\n",
    "y_pred = mlrObj.predict(X_test)\n",
    "print( \"Test Set: \\n\", y_test,\"\\n\")\n",
    "print( \"Predict Set: \\n\", y_pred)\n",
    "\n",
    "#Mean Squared Error\n",
    "mse_m2 = np.square(np.subtract(y_pred, y_test)).mean()\n",
    "mse_m2"
   ]
  },
  {
   "cell_type": "markdown",
   "metadata": {},
   "source": [
    "## Backward Elimination Function"
   ]
  },
  {
   "cell_type": "code",
   "execution_count": null,
   "metadata": {},
   "outputs": [],
   "source": [
    "X.shape"
   ]
  },
  {
   "cell_type": "code",
   "execution_count": null,
   "metadata": {},
   "outputs": [],
   "source": [
    "y.shape"
   ]
  },
  {
   "cell_type": "code",
   "execution_count": null,
   "metadata": {},
   "outputs": [],
   "source": [
    "import statsmodels.formula.api as sm\n",
    "\n",
    "#define a new matrix X_sig using all columns of X\n",
    "X_sig = X[:, [0,1,2,3,4,5,6,7,8,9,10,11,12,13]]\n",
    "numVars = len(X_sig[0])\n",
    "obj_OLS = sm.OLS(endog = y, exog = X_sig).fit()\n",
    "obj_OLS.summary()"
   ]
  },
  {
   "cell_type": "code",
   "execution_count": null,
   "metadata": {},
   "outputs": [],
   "source": [
    "#after we drop X7\n",
    "X_sig = X[:, [0,1,2,3,4,5,6,8,9,10,11,12,13]]\n",
    "obj_OLS = sm.OLS(endog = y, exog = X_sig).fit()\n",
    "obj_OLS.summary()"
   ]
  },
  {
   "cell_type": "code",
   "execution_count": null,
   "metadata": {},
   "outputs": [],
   "source": [
    "#after we drop X3\n",
    "X_sig = X[:, [0,1,2,4,5,6,8,9,10,11,12,13]]\n",
    "obj_OLS = sm.OLS(endog = y, exog = X_sig).fit()\n",
    "obj_OLS.summary()"
   ]
  },
  {
   "cell_type": "code",
   "execution_count": null,
   "metadata": {},
   "outputs": [],
   "source": [
    "#Splitting the data into Training Set and Test Set\n",
    "X_sig_train, X_sig_test, y_sig_train, y_sig_test = train_test_split(X_sig, y, test_size=0.3, random_state=0)\n",
    "mlrObj_sig_1 = LinearRegression()\n",
    "mlrObj_sig_1.fit(X_sig_train, y_sig_train)\n",
    "y_sig_pred = mlrObj_sig_1.predict(X_sig_test)"
   ]
  },
  {
   "cell_type": "code",
   "execution_count": null,
   "metadata": {},
   "outputs": [],
   "source": [
    "y_sig_pred"
   ]
  },
  {
   "cell_type": "code",
   "execution_count": null,
   "metadata": {},
   "outputs": [],
   "source": [
    "y_sig_test"
   ]
  },
  {
   "cell_type": "code",
   "execution_count": null,
   "metadata": {},
   "outputs": [],
   "source": [
    "#Mean Squared Error\n",
    "mse_m3 = np.square(np.subtract(y_sig_pred, y_sig_test)).mean()\n",
    "mse_m3"
   ]
  },
  {
   "cell_type": "code",
   "execution_count": null,
   "metadata": {},
   "outputs": [],
   "source": [
    "## Automatic Backward Elimination\n",
    "import statsmodels.formula.api as sm\n",
    "def backwardElimination(x, sl):\n",
    "    numVars = len(x[0])\n",
    "    for i in range(0, numVars):\n",
    "        obj_OLS = sm.OLS(y,x).fit()\n",
    "        maxVar = max(obj_OLS.pvalues).astype(float)\n",
    "        if maxVar > sl:\n",
    "            for j in range(0, numVars - i):\n",
    "                if(obj_OLS.pvalues[j].astype(float) == maxVar):\n",
    "                    x = np.delete(x, j, 1)\n",
    "    obj_OLS.summary()\n",
    "    return x\n",
    "SL = 0.05\n",
    "X_sig_bm = X[:,[0,1,2,3,4,5,6,7,8,9,10,11,12,13]]\n",
    "X_Modeled_bm = backwardElimination(X_sig_bm, SL)\n",
    "print(X_Modeled_bm.shape)\n",
    "X_Modeled_bm"
   ]
  },
  {
   "cell_type": "code",
   "execution_count": null,
   "metadata": {},
   "outputs": [],
   "source": [
    "X_Modeled_bm[0:5,:]"
   ]
  },
  {
   "cell_type": "code",
   "execution_count": null,
   "metadata": {},
   "outputs": [],
   "source": [
    "#Splitting the data into Training Set and Test Set\n",
    "X_sig_train_bm, X_sig_test_bm, y_sig_train_bm, y_sig_test_bm = train_test_split(X_Modeled_bm, y, test_size=0.3, random_state=0)\n",
    "mlrObj_sig_bm = LinearRegression()\n",
    "mlrObj_sig_bm.fit(X_sig_train_bm, y_sig_train_bm)\n",
    "y_sig_pred_bm = mlrObj_sig_bm.predict(X_sig_test_bm)"
   ]
  },
  {
   "cell_type": "code",
   "execution_count": null,
   "metadata": {},
   "outputs": [],
   "source": [
    "y_sig_pred_bm"
   ]
  },
  {
   "cell_type": "code",
   "execution_count": null,
   "metadata": {},
   "outputs": [],
   "source": [
    "y_sig_test_bm"
   ]
  },
  {
   "cell_type": "code",
   "execution_count": null,
   "metadata": {},
   "outputs": [],
   "source": [
    "#Mean Squared Error\n",
    "mse_m4 = np.square(np.subtract(y_sig_pred_bm, y_sig_test_bm)).mean()\n",
    "mse_m4"
   ]
  },
  {
   "cell_type": "markdown",
   "metadata": {},
   "source": [
    "## Forward Selection Function"
   ]
  },
  {
   "cell_type": "code",
   "execution_count": null,
   "metadata": {},
   "outputs": [],
   "source": [
    "\"\"\"\n",
    "Forward Selection\n",
    "1) Decide on a Significance level for a variable to enter the model, usually 0.05\n",
    "2) Create Models of y with each of xi. Select the one with the lowest p-value\n",
    "3) Keep this variable in the model, create models by adding one new variable each time\n",
    "4) Select the variable with the lowest p-value\n",
    "    if(this p-value < significance level)\n",
    "        go to step 3\n",
    "    else\n",
    "        Select the previous model\n",
    "\"\"\""
   ]
  },
  {
   "cell_type": "code",
   "execution_count": 33,
   "metadata": {},
   "outputs": [
    {
     "name": "stdout",
     "output_type": "stream",
     "text": [
      "(506, 2)\n"
     ]
    },
    {
     "data": {
      "text/plain": [
       "array([[4.98, 1.  ],\n",
       "       [9.14, 1.  ],\n",
       "       [4.03, 1.  ],\n",
       "       [2.94, 1.  ],\n",
       "       [5.33, 1.  ]])"
      ]
     },
     "execution_count": 33,
     "metadata": {},
     "output_type": "execute_result"
    }
   ],
   "source": [
    "## Automatic Forward Elimination\n",
    "import statsmodels.formula.api as sm\n",
    "def forwardSelection(x, sl):\n",
    "#     initVars = len(x_temp[0])\n",
    "#     x_temp = x\n",
    "    numVars = len(x[0])\n",
    "#     x_update = np.ndarray((506,1))\n",
    "#     x_temp = x_update\n",
    "    for i in range(0, numVars):\n",
    "        x_temp = x[:,[i]]\n",
    "        initVars = len(x_temp[0])\n",
    "        obj_OLS = sm.OLS(y,x_temp).fit()\n",
    "        minVar = min(obj_OLS.pvalues).astype(float)\n",
    "        if minVar < sl:\n",
    "            for j in range(0, initVars):\n",
    "                if(obj_OLS.pvalues[j].astype(float) == minVar):\n",
    "#                     x_temp = np.insert(x_temp, j, x[:,[j]], 1) \n",
    "                     x_temp = np.append(x_temp, x[:,[j]],1)\n",
    "#                      x_update = np.append(x_temp, x[:,[j]],1)\n",
    " \n",
    "\n",
    "    obj_OLS.summary()\n",
    "    #x = x_temp\n",
    "    return x_temp\n",
    "SL = 0.05\n",
    "X_sig_fm = X[:,[0,1,2,3,4,5,6,7,8,9,10,11,12,13]]\n",
    "X_Modeled_fm = forwardSelection(X_sig_fm, SL)\n",
    "print(X_Modeled_fm.shape)\n",
    "X_Modeled_fm[0:5,:]\n"
   ]
  },
  {
   "cell_type": "code",
   "execution_count": null,
   "metadata": {},
   "outputs": [],
   "source": [
    "sl = 0.05\n",
    "x = X[:,[0,1,2,3,4,5,6,7,8,9,10,11,12,13]]\n",
    "print(len(X[0]))\n",
    "x[:, [8]]"
   ]
  },
  {
   "cell_type": "code",
   "execution_count": null,
   "metadata": {},
   "outputs": [],
   "source": [
    "    numVars = len(x[0])\n",
    "    #x_temp = x\n",
    "    for i in range(0, numVars):\n",
    "        x_temp= x[:, [i]]\n",
    "#         x_temp = x[:,i:i+1]\n",
    "        initVars = len(x_temp[0])\n",
    "        obj_OLS = sm.OLS(y,x_temp).fit()\n",
    "        minVar = min(obj_OLS.pvalues).astype(float)\n",
    "        if minVar < sl:\n",
    "            for j in range(0, initVars):\n",
    "                if(obj_OLS.pvalues[j].astype(float) == minVar):\n",
    "                    #x_temp = np.insert(x_temp, j, x[:,j:j+1], 1) \n",
    "                    x_temp = np.append(x_temp, x[:,[j]],1)\n",
    "x_temp"
   ]
  },
  {
   "cell_type": "code",
   "execution_count": null,
   "metadata": {},
   "outputs": [],
   "source": [
    "\n",
    "obj_OLS.summary()\n"
   ]
  },
  {
   "cell_type": "code",
   "execution_count": null,
   "metadata": {},
   "outputs": [],
   "source": [
    "print(x_temp.shape)\n",
    "x_temp[0:5,:]"
   ]
  },
  {
   "cell_type": "code",
   "execution_count": null,
   "metadata": {},
   "outputs": [],
   "source": [
    "x"
   ]
  },
  {
   "cell_type": "code",
   "execution_count": 34,
   "metadata": {},
   "outputs": [],
   "source": [
    "#Splitting the data into Training Set and Test Set\n",
    "X_sig_train_fm, X_sig_test_fm, y_sig_train_fm, y_sig_test_fm = train_test_split(X_Modeled_fm, y, test_size=0.3, random_state=0)\n",
    "mlrObj_sig_fm = LinearRegression()\n",
    "mlrObj_sig_fm.fit(X_sig_train_fm, y_sig_train_fm)\n",
    "y_sig_pred_fm = mlrObj_sig_fm.predict(X_sig_test_fm)"
   ]
  },
  {
   "cell_type": "code",
   "execution_count": 35,
   "metadata": {},
   "outputs": [
    {
     "data": {
      "text/plain": [
       "array([27.68362724, 25.56339892, 24.62430236, 15.6496373 , 22.84292332,\n",
       "       26.58962815, 23.70456862, 25.79575271, 22.55248109, 24.49844406,\n",
       "       14.82671764, 14.24583316, 17.56655605,  7.41075923, 32.93095029,\n",
       "       30.20079328, 24.39194858, 30.83976619, 29.62959021, 26.29918592,\n",
       "       27.81916695, 23.14304697, 21.14867695, 27.82884836, 24.90506319,\n",
       "       21.88446395, 21.40039355, 19.50283762, 30.71390789, 18.2442546 ,\n",
       "       17.33420226, 20.55811107, 24.96315164, 22.78483488, 26.03778791,\n",
       "       20.61619952,  8.87265182, 26.19269043, 17.71177717, 11.45758771,\n",
       "       26.48313267, 21.0905885 , 25.98938087, 17.22770678, 26.41536281,\n",
       "       25.94097383, 19.45443058, 20.15149194,  6.43293704, 25.66989441,\n",
       "       20.24830602, 17.7505028 , 23.51094046, 31.36256222, 18.03126363,\n",
       "       19.58028888, 22.75579065, 22.52343686, 25.00187727, 18.06998926,\n",
       "       27.24796389, 22.46534842, 30.08461638, 31.14957124, 20.50002263,\n",
       "       30.37505862, 17.6246445 , 14.99130157, 15.63995589, 24.26609027,\n",
       "       23.20113541, 26.13460199, 30.26856313, 30.32665158, 27.29637093,\n",
       "        3.81895693, 30.9656245 , 24.1692762 , 26.26046029, 21.13899554,\n",
       "       27.65458302, 20.66460656, 23.04623289, 30.78167775, 30.30728876,\n",
       "       28.83571477, 23.81106411, 19.5996517 , 27.6352202 , 16.62745949,\n",
       "       20.46129699, 12.26114456, 28.42909564, 28.91316603, 27.16083122,\n",
       "       25.92161101, -1.97052496, 29.20360827, 17.23738819, 22.05872929,\n",
       "       25.70862004, 22.91069318, 25.38913358, 25.22454965, 23.77233847,\n",
       "       22.75579065,  8.99851012, 21.23580962, 25.99906228, 26.396     ,\n",
       "       30.34601439,  9.23086391, 16.24988459, 19.90945675,  5.81332694,\n",
       "       20.5968367 ,  1.85363114, 24.02405508,  9.92792527, 31.73045571,\n",
       "       30.24920032, 11.01224295, 19.1058999 , 22.28140167, 25.13741698,\n",
       "       17.76986562, 28.52590972, 16.91790173, 25.86352257, 28.93252885,\n",
       "       18.21521038,  9.82142978, 17.29547663, 20.81950908, 12.77425917,\n",
       "       30.13302342, 24.25640887,  8.82424478, 28.43877705,  6.66529083,\n",
       "       11.85452543, 21.63274734, 29.91035104, 29.67799725, 28.22578608,\n",
       "       20.45161559, 30.4815541 , 29.62959021, 13.95539093,  4.96136305,\n",
       "       30.39442143, 29.74576711])"
      ]
     },
     "execution_count": 35,
     "metadata": {},
     "output_type": "execute_result"
    }
   ],
   "source": [
    "y_sig_pred_fm"
   ]
  },
  {
   "cell_type": "code",
   "execution_count": 36,
   "metadata": {},
   "outputs": [
    {
     "data": {
      "text/plain": [
       "array([22.6, 50. , 23. ,  8.3, 21.2, 19.9, 20.6, 18.7, 16.1, 18.6,  8.8,\n",
       "       17.2, 14.9, 10.5, 50. , 29. , 23. , 33.3, 29.4, 21. , 23.8, 19.1,\n",
       "       20.4, 29.1, 19.3, 23.1, 19.6, 19.4, 38.7, 18.7, 14.6, 20. , 20.5,\n",
       "       20.1, 23.6, 16.8,  5.6, 50. , 14.5, 13.3, 23.9, 20. , 19.8, 13.8,\n",
       "       16.5, 21.6, 20.3, 17. , 11.8, 27.5, 15.6, 23.1, 24.3, 42.8, 15.6,\n",
       "       21.7, 17.1, 17.2, 15. , 21.7, 18.6, 21. , 33.1, 31.5, 20.1, 29.8,\n",
       "       15.2, 15. , 27.5, 22.6, 20. , 21.4, 23.5, 31.2, 23.7,  7.4, 48.3,\n",
       "       24.4, 22.6, 18.3, 23.3, 17.1, 27.9, 44.8, 50. , 23. , 21.4, 10.2,\n",
       "       23.3, 23.2, 18.9, 13.4, 21.9, 24.8, 11.9, 24.3, 13.8, 24.7, 14.1,\n",
       "       18.7, 28.1, 19.8, 26.7, 21.7, 22. , 22.9, 10.4, 21.9, 20.6, 26.4,\n",
       "       41.3, 17.2, 27.1, 20.4, 16.5, 24.4,  8.4, 23. ,  9.7, 50. , 30.5,\n",
       "       12.3, 19.4, 21.2, 20.3, 18.8, 33.4, 18.5, 19.6, 33.2, 13.1,  7.5,\n",
       "       13.6, 17.4,  8.4, 35.4, 24. , 13.4, 26.2,  7.2, 13.1, 24.5, 37.2,\n",
       "       25. , 24.1, 16.6, 32.9, 36.2, 11. ,  7.2, 22.8, 28.7])"
      ]
     },
     "execution_count": 36,
     "metadata": {},
     "output_type": "execute_result"
    }
   ],
   "source": [
    "y_sig_test_fm"
   ]
  },
  {
   "cell_type": "code",
   "execution_count": 37,
   "metadata": {},
   "outputs": [
    {
     "data": {
      "text/plain": [
       "39.81715050474416"
      ]
     },
     "execution_count": 37,
     "metadata": {},
     "output_type": "execute_result"
    }
   ],
   "source": [
    "#Mean Squared Error\n",
    "mse_5 = np.square(np.subtract(y_sig_pred_fm, y_sig_test_fm)).mean()\n",
    "mse_5"
   ]
  },
  {
   "cell_type": "code",
   "execution_count": null,
   "metadata": {},
   "outputs": [],
   "source": [
    " X[:, 3:4]"
   ]
  },
  {
   "cell_type": "code",
   "execution_count": null,
   "metadata": {},
   "outputs": [],
   "source": [
    "x_updated = X[:,[0,13]]\n",
    "x_updated"
   ]
  },
  {
   "cell_type": "code",
   "execution_count": null,
   "metadata": {},
   "outputs": [],
   "source": [
    "import statsmodels.formula.api as sm\n",
    "\n",
    "#define a new matrix X_sig using first column of X\n",
    "for i in range(0,len(x[i])):\n",
    "    X_sig_sf = x[:, [0,13,i]]\n",
    "    obj_OLS = sm.OLS(endog = y, exog = X_sig_sf).fit()\n",
    "    print(obj_OLS.summary())\n",
    "    "
   ]
  },
  {
   "cell_type": "code",
   "execution_count": null,
   "metadata": {},
   "outputs": [],
   "source": []
  },
  {
   "cell_type": "code",
   "execution_count": null,
   "metadata": {},
   "outputs": [],
   "source": [
    "for i in range(0,len(x[i])):\n",
    "    X_sig_sf = x[:, [i]]\n",
    "    obj_OLS = sm.OLS(endog = y, exog = X_sig_sf).fit()\n",
    "    print(obj_OLS.summary())\n",
    "    "
   ]
  },
  {
   "cell_type": "code",
   "execution_count": null,
   "metadata": {},
   "outputs": [],
   "source": []
  },
  {
   "cell_type": "code",
   "execution_count": null,
   "metadata": {},
   "outputs": [],
   "source": []
  },
  {
   "cell_type": "code",
   "execution_count": null,
   "metadata": {},
   "outputs": [],
   "source": []
  },
  {
   "cell_type": "code",
   "execution_count": null,
   "metadata": {},
   "outputs": [],
   "source": []
  },
  {
   "cell_type": "code",
   "execution_count": null,
   "metadata": {},
   "outputs": [],
   "source": []
  },
  {
   "cell_type": "code",
   "execution_count": null,
   "metadata": {},
   "outputs": [],
   "source": []
  },
  {
   "cell_type": "code",
   "execution_count": null,
   "metadata": {},
   "outputs": [],
   "source": [
    "#Splitting the data into Training Set and Test Set\n",
    "X_sig_train_sf, X_sig_test_sf, y_sig_train_sf, y_sig_test_sf = train_test_split(X_sig_sf, y, test_size=0.3, random_state=0)\n",
    "mlrObj_sig_sf = LinearRegression()\n",
    "mlrObj_sig_sf.fit(X_sig_train_sf, y_sig_train_sf)\n",
    "y_sig_pred_sf = mlrObj_sig_sf.predict(X_sig_test_sf)"
   ]
  },
  {
   "cell_type": "code",
   "execution_count": null,
   "metadata": {},
   "outputs": [],
   "source": [
    "y_sig_pred_sf "
   ]
  },
  {
   "cell_type": "code",
   "execution_count": null,
   "metadata": {},
   "outputs": [],
   "source": [
    "y_sig_test_sf"
   ]
  },
  {
   "cell_type": "code",
   "execution_count": null,
   "metadata": {},
   "outputs": [],
   "source": [
    "#Mean Squared Error\n",
    "mse_6 = np.square(np.subtract(y_sig_pred_sf, y_sig_test_sf)).mean()\n",
    "mse_6"
   ]
  },
  {
   "cell_type": "code",
   "execution_count": null,
   "metadata": {},
   "outputs": [],
   "source": [
    "X_forwardTest = X[:,[0,1,2,3,4,5,6,7,8,9,10,11,12,13]]\n",
    "X_forwardTest.shape\n",
    "\n"
   ]
  },
  {
   "cell_type": "code",
   "execution_count": null,
   "metadata": {},
   "outputs": [],
   "source": [
    "X_forwardTest[:,0:1].shape"
   ]
  },
  {
   "cell_type": "code",
   "execution_count": null,
   "metadata": {},
   "outputs": [],
   "source": [
    "X_forwardTest_oneVar = X_forwardTest[:,0:1]\n",
    "print(X_forwardTest_oneVar.shape)\n",
    "X_forwardTest_oneVar"
   ]
  },
  {
   "cell_type": "code",
   "execution_count": null,
   "metadata": {},
   "outputs": [],
   "source": [
    "X_forwardTest_oneVar = np.append(X_forwardTest_oneVar,X_forwardTest[:,1:2],1)\n",
    "print(X_forwardTest_oneVar.shape)\n",
    "X_forwardTest_oneVar"
   ]
  },
  {
   "cell_type": "code",
   "execution_count": null,
   "metadata": {},
   "outputs": [],
   "source": [
    "X_forwardTest_oneVar = np.append(X_forwardTest_oneVar,X_forwardTest[:,2:3],1)\n",
    "print(X_forwardTest_oneVar.shape)\n",
    "X_forwardTest_oneVar"
   ]
  },
  {
   "cell_type": "code",
   "execution_count": null,
   "metadata": {},
   "outputs": [],
   "source": [
    "X_temp_array = X_forwardTest\n",
    "X_temp_array.shape"
   ]
  },
  {
   "cell_type": "code",
   "execution_count": null,
   "metadata": {},
   "outputs": [],
   "source": [
    "X_temp_array.colums"
   ]
  },
  {
   "cell_type": "code",
   "execution_count": null,
   "metadata": {},
   "outputs": [],
   "source": []
  }
 ],
 "metadata": {
  "kernelspec": {
   "display_name": "Python 3",
   "language": "python",
   "name": "python3"
  },
  "language_info": {
   "codemirror_mode": {
    "name": "ipython",
    "version": 3
   },
   "file_extension": ".py",
   "mimetype": "text/x-python",
   "name": "python",
   "nbconvert_exporter": "python",
   "pygments_lexer": "ipython3",
   "version": "3.6.5"
  }
 },
 "nbformat": 4,
 "nbformat_minor": 2
}
