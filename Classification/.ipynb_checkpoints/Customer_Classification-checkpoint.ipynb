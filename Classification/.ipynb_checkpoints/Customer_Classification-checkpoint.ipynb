{
 "cells": [
  {
   "cell_type": "markdown",
   "metadata": {},
   "source": [
    "## Diego Orejuela"
   ]
  },
  {
   "cell_type": "markdown",
   "metadata": {},
   "source": [
    "## Q1) Load the dataset into a pandas dataframe and display the first 5 lines of the dataset along with the column headings."
   ]
  },
  {
   "cell_type": "code",
   "execution_count": 1,
   "metadata": {},
   "outputs": [],
   "source": [
    "import pandas as pd\n",
    "import numpy as np\n",
    "import matplotlib.pyplot as plt"
   ]
  },
  {
   "cell_type": "code",
   "execution_count": 2,
   "metadata": {},
   "outputs": [
    {
     "data": {
      "text/html": [
       "<div>\n",
       "<style scoped>\n",
       "    .dataframe tbody tr th:only-of-type {\n",
       "        vertical-align: middle;\n",
       "    }\n",
       "\n",
       "    .dataframe tbody tr th {\n",
       "        vertical-align: top;\n",
       "    }\n",
       "\n",
       "    .dataframe thead th {\n",
       "        text-align: right;\n",
       "    }\n",
       "</style>\n",
       "<table border=\"1\" class=\"dataframe\">\n",
       "  <thead>\n",
       "    <tr style=\"text-align: right;\">\n",
       "      <th></th>\n",
       "      <th>region</th>\n",
       "      <th>tenure</th>\n",
       "      <th>age</th>\n",
       "      <th>marital</th>\n",
       "      <th>address</th>\n",
       "      <th>income</th>\n",
       "      <th>ed</th>\n",
       "      <th>employ</th>\n",
       "      <th>retire</th>\n",
       "      <th>gender</th>\n",
       "      <th>reside</th>\n",
       "      <th>custcat</th>\n",
       "    </tr>\n",
       "  </thead>\n",
       "  <tbody>\n",
       "    <tr>\n",
       "      <th>0</th>\n",
       "      <td>2</td>\n",
       "      <td>13</td>\n",
       "      <td>44</td>\n",
       "      <td>1</td>\n",
       "      <td>9</td>\n",
       "      <td>64.0</td>\n",
       "      <td>4</td>\n",
       "      <td>5</td>\n",
       "      <td>0.0</td>\n",
       "      <td>0</td>\n",
       "      <td>2</td>\n",
       "      <td>1</td>\n",
       "    </tr>\n",
       "    <tr>\n",
       "      <th>1</th>\n",
       "      <td>3</td>\n",
       "      <td>11</td>\n",
       "      <td>33</td>\n",
       "      <td>1</td>\n",
       "      <td>7</td>\n",
       "      <td>136.0</td>\n",
       "      <td>5</td>\n",
       "      <td>5</td>\n",
       "      <td>0.0</td>\n",
       "      <td>0</td>\n",
       "      <td>6</td>\n",
       "      <td>4</td>\n",
       "    </tr>\n",
       "    <tr>\n",
       "      <th>2</th>\n",
       "      <td>3</td>\n",
       "      <td>68</td>\n",
       "      <td>52</td>\n",
       "      <td>1</td>\n",
       "      <td>24</td>\n",
       "      <td>116.0</td>\n",
       "      <td>1</td>\n",
       "      <td>29</td>\n",
       "      <td>0.0</td>\n",
       "      <td>1</td>\n",
       "      <td>2</td>\n",
       "      <td>3</td>\n",
       "    </tr>\n",
       "    <tr>\n",
       "      <th>3</th>\n",
       "      <td>2</td>\n",
       "      <td>33</td>\n",
       "      <td>33</td>\n",
       "      <td>0</td>\n",
       "      <td>12</td>\n",
       "      <td>33.0</td>\n",
       "      <td>2</td>\n",
       "      <td>0</td>\n",
       "      <td>0.0</td>\n",
       "      <td>1</td>\n",
       "      <td>1</td>\n",
       "      <td>1</td>\n",
       "    </tr>\n",
       "    <tr>\n",
       "      <th>4</th>\n",
       "      <td>2</td>\n",
       "      <td>23</td>\n",
       "      <td>30</td>\n",
       "      <td>1</td>\n",
       "      <td>9</td>\n",
       "      <td>30.0</td>\n",
       "      <td>1</td>\n",
       "      <td>2</td>\n",
       "      <td>0.0</td>\n",
       "      <td>0</td>\n",
       "      <td>4</td>\n",
       "      <td>3</td>\n",
       "    </tr>\n",
       "  </tbody>\n",
       "</table>\n",
       "</div>"
      ],
      "text/plain": [
       "   region  tenure  age  marital  address  income  ed  employ  retire  gender  \\\n",
       "0       2      13   44        1        9    64.0   4       5     0.0       0   \n",
       "1       3      11   33        1        7   136.0   5       5     0.0       0   \n",
       "2       3      68   52        1       24   116.0   1      29     0.0       1   \n",
       "3       2      33   33        0       12    33.0   2       0     0.0       1   \n",
       "4       2      23   30        1        9    30.0   1       2     0.0       0   \n",
       "\n",
       "   reside  custcat  \n",
       "0       2        1  \n",
       "1       6        4  \n",
       "2       2        3  \n",
       "3       1        1  \n",
       "4       4        3  "
      ]
     },
     "execution_count": 2,
     "metadata": {},
     "output_type": "execute_result"
    }
   ],
   "source": [
    "#load dataset\n",
    "dataset = pd.read_csv('data.csv')\n",
    "dataset.head()"
   ]
  },
  {
   "cell_type": "markdown",
   "metadata": {},
   "source": [
    "## Q2) Display the number of instances for each class. That is, you should write code to find out how many instances you have for class 1, class 2, class 3, and class 4."
   ]
  },
  {
   "cell_type": "code",
   "execution_count": 3,
   "metadata": {},
   "outputs": [
    {
     "name": "stdout",
     "output_type": "stream",
     "text": [
      "There are:  266 instances for class 1\n",
      "There are:  217 instances for class 2\n",
      "There are:  281 instances for class 3\n",
      "There are:  236 instances for class 4\n",
      "Total number of instances:  1000\n"
     ]
    }
   ],
   "source": [
    "#Split Dataset into train and test features\n",
    "X = dataset.iloc[: , :-1].values\n",
    "y = dataset.iloc[ : , 11 ].values\n",
    "\n",
    "totInst = 0\n",
    "for i in range(1,5):\n",
    "    numInst = (y == i).sum()\n",
    "    print('There are: ', numInst, 'instances for class', i)\n",
    "    totInst += numInst\n",
    "print('Total number of instances: ', totInst)"
   ]
  },
  {
   "cell_type": "markdown",
   "metadata": {},
   "source": [
    "## Q3) Create histograms of columns age and income to visually explore their distributions."
   ]
  },
  {
   "cell_type": "code",
   "execution_count": 4,
   "metadata": {},
   "outputs": [
    {
     "data": {
      "text/plain": [
       "array([[<matplotlib.axes._subplots.AxesSubplot object at 0x112b815c0>]],\n",
       "      dtype=object)"
      ]
     },
     "execution_count": 4,
     "metadata": {},
     "output_type": "execute_result"
    },
    {
     "data": {
      "image/png": "[encoded data removed]",
      "text/plain": [
       "<Figure size 432x288 with 1 Axes>"
      ]
     },
     "metadata": {},
     "output_type": "display_data"
    },
    {
     "data": {
      "image/png": "[encoded data removed]",
      "text/plain": [
       "<Figure size 432x288 with 1 Axes>"
      ]
     },
     "metadata": {},
     "output_type": "display_data"
    }
   ],
   "source": [
    "# Pandas Histogram\n",
    "dataset.hist(column='age')\n",
    "dataset.hist(column='income')"
   ]
  },
  {
   "cell_type": "code",
   "execution_count": 5,
   "metadata": {},
   "outputs": [
    {
     "name": "stderr",
     "output_type": "stream",
     "text": [
      "/anaconda3/lib/python3.6/site-packages/matplotlib/axes/_axes.py:6462: UserWarning: The 'normed' kwarg is deprecated, and has been replaced by the 'density' kwarg.\n",
      "  warnings.warn(\"The 'normed' kwarg is deprecated, and has been \"\n"
     ]
    },
    {
     "data": {
      "image/png": "[encoded data removed]",
      "text/plain": [
       "<Figure size 432x288 with 1 Axes>"
      ]
     },
     "metadata": {},
     "output_type": "display_data"
    },
    {
     "data": {
      "image/png": "[encoded data removed]",
      "text/plain": [
       "<Figure size 432x288 with 1 Axes>"
      ]
     },
     "metadata": {},
     "output_type": "display_data"
    }
   ],
   "source": [
    "# Matplotlib Histogram\n",
    "plt.hist(X[:,2],normed=False, facecolor='g')\n",
    "plt.xlabel('Age')\n",
    "plt.ylabel('Customers')\n",
    "plt.title('Histogram of Age')\n",
    "plt.grid()\n",
    "plt.show()\n",
    "\n",
    "plt.hist(X[:,5],normed=False, facecolor='g')\n",
    "plt.grid()\n",
    "plt.xlabel('Income')\n",
    "plt.ylabel('Customers')\n",
    "plt.title('Histogram of Income')\n",
    "plt.show()\n"
   ]
  },
  {
   "cell_type": "markdown",
   "metadata": {},
   "source": [
    "## Q5) Split the dataset into training (80%) and testing set (20%)."
   ]
  },
  {
   "cell_type": "code",
   "execution_count": 6,
   "metadata": {},
   "outputs": [],
   "source": [
    "# Dealing with categorical Nominal variables first\n",
    "# from the scikit.preprocessing library we first import the Label Encoder class\n",
    "from sklearn.preprocessing import LabelEncoder, OneHotEncoder\n",
    "labelEncoder_X = LabelEncoder()\n",
    "# X[: , 0] = labelEncoder_X.fit_transform(X[ : , 0])\n",
    "# OneHotEncoder class avoids categorical variables from being evaluated by their int value\n",
    "oneHotEncoder = OneHotEncoder(categorical_features = [0,3,8,9])\n",
    "# toarray() method is used to return an ndarray \n",
    "X = oneHotEncoder.fit_transform(X).toarray()\n",
    "# remove the extra dummy variable\n",
    "X = X[: , 1:]\n",
    "\n",
    "# Split data into Training and Test set\n",
    "from sklearn.model_selection import train_test_split\n",
    "X_train, X_test, y_train, y_test = train_test_split(X, y, test_size = 0.2, random_state = 0)"
   ]
  },
  {
   "cell_type": "markdown",
   "metadata": {},
   "source": [
    "## Q4) Perform normalization of the data using standardization."
   ]
  },
  {
   "cell_type": "code",
   "execution_count": 7,
   "metadata": {},
   "outputs": [],
   "source": [
    "# Normalizing the features\n",
    "from sklearn.preprocessing import StandardScaler\n",
    "sc_X = StandardScaler()\n",
    "X_train = sc_X.fit_transform(X_train)\n",
    "X_test = sc_X.transform(X_test)"
   ]
  },
  {
   "cell_type": "markdown",
   "metadata": {},
   "source": [
    "## Q6) Model 1: Fit a logistic regression model. What is the testing misclassification rate you get?"
   ]
  },
  {
   "cell_type": "code",
   "execution_count": 17,
   "metadata": {},
   "outputs": [
    {
     "name": "stdout",
     "output_type": "stream",
     "text": [
      "Confussion Matrix: \n",
      " [[27  6 21  7]\n",
      " [ 6 12 13 13]\n",
      " [12  7 27  4]\n",
      " [ 6 14  9 16]]\n",
      "Model Accuracy:  0.41\n",
      "Misclassification Rate:  0.5900000000000001\n"
     ]
    }
   ],
   "source": [
    "# Fitting Logistic Regression to Training Set\n",
    "from sklearn.linear_model import LogisticRegression\n",
    "classifierObj_lr = LogisticRegression(random_state=0)\n",
    "classifierObj_lr.fit(X_train, y_train)\n",
    "\n",
    "#Making Predictions on the Test Set\n",
    "y_pred = classifierObj_lr.predict(X_test)\n",
    "\n",
    "#Evaluate predictions using a Confusion Matrix\n",
    "from sklearn.metrics import confusion_matrix\n",
    "cm_lr= confusion_matrix(y_test, y_pred)\n",
    "print('Confussion Matrix: \\n',cm_lr)\n",
    "#model accuracy\n",
    "lr_ModAcc = ((cm_lr.diagonal().sum()/cm_lr.sum()))\n",
    "print('Model Accuracy: ', lr_ModAcc)\n",
    "#misclassification rate\n",
    "lr_MiscRate = 1- lr_ModAcc\n",
    "print(\"Misclassification Rate: \", lr_MiscRate)"
   ]
  },
  {
   "cell_type": "markdown",
   "metadata": {},
   "source": [
    "## Q7) Model 2: We will now fit k-NN. However for k-NN you need to specify the value for k. In order to figure that out, run k-NN with different values of k and compute the testing misclassification rate. Plot a chart with k on X-axis and testing error on the Y-axis. What is the lowest value of testing error and corresponding value of k?"
   ]
  },
  {
   "cell_type": "code",
   "execution_count": 18,
   "metadata": {},
   "outputs": [
    {
     "data": {
      "image/png": "[encoded data removed]",
      "text/plain": [
       "<Figure size 432x288 with 1 Axes>"
      ]
     },
     "metadata": {},
     "output_type": "display_data"
    },
    {
     "name": "stdout",
     "output_type": "stream",
     "text": [
      "Lowest Testing error value:  [0.585]\n",
      "Corresponding value of k:  88\n"
     ]
    }
   ],
   "source": [
    "from sklearn.neighbors import KNeighborsClassifier\n",
    "\n",
    "missClass = []\n",
    "for i in range(1,101):\n",
    "    \n",
    "    # Make Classifier object called classifierObj\n",
    "    classifierObj_kNN = KNeighborsClassifier(n_neighbors=i, p=2, metric='minkowski')\n",
    "    # try with different number of neighbors\n",
    "    classifierObj_kNN.fit(X_train, y_train)\n",
    "\n",
    "    #Making Predictions on the Test Set\n",
    "    y_pred = classifierObj_kNN.predict(X_test)\n",
    "\n",
    "    #Evaluate predictions using a Confusion Matrix\n",
    "    cm_kNN = confusion_matrix(y_test, y_pred)\n",
    "#     print(i, 'neighbors \\n',cm_kNN)\n",
    "\n",
    "    #model accuracy\n",
    "    kNN_accuracy = (cm_kNN.diagonal().sum()/cm_kNN.sum())\n",
    "#     print('Model Accuracy: ',kNN_accuracy)\n",
    "\n",
    "    #misclassification rate\n",
    "    kNN_missClassif = 1- kNN_accuracy\n",
    "#     print('Misclassification Rate: ',kNN_missClassif)\n",
    "    \n",
    "    missClass.append([kNN_missClassif])\n",
    "    \n",
    "plt.plot(missClass, linewidth=2)\n",
    "plt.grid()\n",
    "plt.xticks(np.arange(0, 101, step=5))\n",
    "plt.yticks(np.arange(0.59, 0.775, step=0.01))\n",
    "plt.show()\n",
    "\n",
    "kNN_minTEval = min(missClass)\n",
    "kNN_val = missClass.index(min(missClass)) + 1\n",
    "print('Lowest Testing error value: ', kNN_minTEval)\n",
    "print('Corresponding value of k: ', kNN_val)\n",
    "\n",
    "# Make Classifier object called classifierObj\n",
    "classifierObj_kNN_ensemble = KNeighborsClassifier(n_neighbors=kNN_val, p=2, metric='minkowski')"
   ]
  },
  {
   "cell_type": "markdown",
   "metadata": {},
   "source": [
    "## Q8) Model 3: Fit SVM model with different kernels. Which kernel gives the least testing error?"
   ]
  },
  {
   "cell_type": "code",
   "execution_count": 19,
   "metadata": {},
   "outputs": [
    {
     "name": "stdout",
     "output_type": "stream",
     "text": [
      "Default Kernel \n",
      " [[24  5 25  7]\n",
      " [ 4 11 18 11]\n",
      " [14  9 17 10]\n",
      " [ 8 13 11 13]]\n",
      "Model Accuracy:  0.325\n",
      "Misclassification Rate:  0.675 \n",
      "\n",
      "Sigmoid Kernel: \n",
      " [[32  4 21  4]\n",
      " [ 6 10 13 15]\n",
      " [16  8 20  6]\n",
      " [ 6 13  9 17]]\n",
      "Model Accuracy:  0.395\n",
      "Misclassification Rate:  0.605 \n",
      "\n",
      "Linear Kernel: \n",
      " [[30  5 19  7]\n",
      " [ 7  9 13 15]\n",
      " [14  9 24  3]\n",
      " [ 7 15  7 16]]\n",
      "Model Accuracy:  0.395\n",
      "Misclassification Rate:  0.605 \n",
      "\n",
      "polynomial of degree:  0\n",
      "[[ 0  0 61  0]\n",
      " [ 0  0 44  0]\n",
      " [ 0  0 50  0]\n",
      " [ 0  0 45  0]]\n",
      "Model Accuracy:  0.25\n",
      "Misclassification Rate:  0.75 \n",
      "\n",
      "polynomial of degree:  1\n",
      "[[30  5 20  6]\n",
      " [ 7  9 14 14]\n",
      " [12  6 28  4]\n",
      " [ 7 15  7 16]]\n",
      "Model Accuracy:  0.415\n",
      "Misclassification Rate:  0.585 \n",
      "\n",
      "polynomial of degree:  2\n",
      "[[25  7 29  0]\n",
      " [21  4 19  0]\n",
      " [19  6 21  4]\n",
      " [16  8 17  4]]\n",
      "Model Accuracy:  0.27\n",
      "Misclassification Rate:  0.73 \n",
      "\n",
      "polynomial of degree:  3\n",
      "[[27  5 23  6]\n",
      " [ 6 13 12 13]\n",
      " [12  9 21  8]\n",
      " [ 8 12 11 14]]\n",
      "Model Accuracy:  0.375\n",
      "Misclassification Rate:  0.625 \n",
      "\n",
      "polynomial of degree:  4\n",
      "[[19  3 34  5]\n",
      " [ 9  1 33  1]\n",
      " [14  2 28  6]\n",
      " [ 7  6 31  1]]\n",
      "Model Accuracy:  0.245\n",
      "Misclassification Rate:  0.755 \n",
      "\n"
     ]
    },
    {
     "data": {
      "image/png": "[encoded data removed]",
      "text/plain": [
       "<Figure size 432x288 with 1 Axes>"
      ]
     },
     "metadata": {},
     "output_type": "display_data"
    },
    {
     "name": "stdout",
     "output_type": "stream",
     "text": [
      "Lowest Testing error value:  [0.585]\n",
      "Corresponding value of k:  1\n",
      "Polynomial Kernel of degree 1 gives the least testing error\n"
     ]
    }
   ],
   "source": [
    "from sklearn.svm import SVC\n",
    "\n",
    "# Default kernel uses RBF or Gaussian\n",
    "classifierObj_svm = SVC() \n",
    "classifierObj_svm.fit(X_train, y_train)\n",
    "#Making Predictions on the Test Set\n",
    "y_pred = classifierObj_svm.predict(X_test)\n",
    "\n",
    "#Evaluate predictions using a Confusion Matrix\n",
    "cm_svm = confusion_matrix(y_test, y_pred)\n",
    "print(\"Default Kernel \\n\",cm_svm)\n",
    "\n",
    "#model accuracy\n",
    "svm_accuracy = (cm_svm.diagonal().sum()/cm_svm.sum())\n",
    "print(\"Model Accuracy: \",svm_accuracy)\n",
    "\n",
    "#misclassification rate\n",
    "svm_missClassif = 1- svm_accuracy\n",
    "print(\"Misclassification Rate: \",svm_missClassif,\"\\n\")\n",
    "\n",
    "\n",
    "# Make Classifier object called classifierObj for Sigmoid Kernel\n",
    "from sklearn.svm import SVC\n",
    "# try the sigmoid kernel\n",
    "classifierObj_svm_sig = SVC(kernel='sigmoid')\n",
    "classifierObj_svm_sig.fit(X_train, y_train)\n",
    "\n",
    "#Making Predictions on the Test Set\n",
    "y_pred = classifierObj_svm_sig.predict(X_test)\n",
    "\n",
    "#Evaluate predictions using a Confusion Matrix\n",
    "cm_svm_sig = confusion_matrix(y_test, y_pred)\n",
    "print(\"Sigmoid Kernel: \\n\",cm_svm_sig)\n",
    "\n",
    "#model accuracy\n",
    "svm_sig_accuracy = (cm_svm_sig.diagonal().sum()/cm_svm_sig.sum())\n",
    "print(\"Model Accuracy: \",svm_sig_accuracy)\n",
    "\n",
    "#misclassification rate\n",
    "svm_sig_missClassif = 1- svm_sig_accuracy\n",
    "print(\"Misclassification Rate: \", svm_sig_missClassif,\"\\n\")\n",
    "\n",
    "\n",
    "# Make Classifier object called classifierObj for Linear Kernel\n",
    "classifierObj_svm_ln = SVC(kernel = 'linear') \n",
    "classifierObj_svm_ln.fit(X_train, y_train)\n",
    "#Making Predictions on the Test Set\n",
    "y_pred = classifierObj_svm_ln.predict(X_test)\n",
    "\n",
    "#Evaluate predictions using a Confusion Matrix\n",
    "cm_svm_ln = confusion_matrix(y_test, y_pred)\n",
    "print('Linear Kernel: \\n',cm_svm_ln)\n",
    "\n",
    "#model accuracy\n",
    "ln_svm_accuracy = (cm_svm_ln.diagonal().sum()/cm_svm_ln.sum())\n",
    "print(\"Model Accuracy: \",ln_svm_accuracy)\n",
    "\n",
    "#misclassification rate\n",
    "ln_svm_missClassif = 1- ln_svm_accuracy\n",
    "print(\"Misclassification Rate: \",ln_svm_missClassif,\"\\n\")\n",
    "\n",
    "missClass_degrees = []\n",
    "# Make Classifier object called classifierObj for polynomial Kernel\n",
    "from sklearn.svm import SVC\n",
    "#try different degree of polynomial kernel\n",
    "for i in range(0,5):\n",
    "    classifierObj_svm_degree_i = SVC(kernel='poly', degree=i) \n",
    "    classifierObj_svm_degree_i.fit(X_train, y_train)\n",
    "\n",
    "    #Making Predictions on the Test Set\n",
    "    y_pred = classifierObj_svm_degree_i.predict(X_test)\n",
    "\n",
    "    print('polynomial of degree: ', i)\n",
    "    #Evaluate predictions using a Confusion Matrix\n",
    "    cm_svm_degree_i = confusion_matrix(y_test, y_pred)\n",
    "    print(cm_svm_degree_i)\n",
    "\n",
    "    #model accuracy\n",
    "    svm_degree_accuracy_i = (cm_svm_degree_i.diagonal().sum()/cm_svm_degree_i.sum())\n",
    "    print(\"Model Accuracy: \",svm_degree_accuracy_i)\n",
    "\n",
    "    #misclassification rate\n",
    "    svm_degree_missClassif_i = 1- svm_degree_accuracy_i\n",
    "    print(\"Misclassification Rate: \",svm_degree_missClassif_i,\"\\n\")\n",
    "    \n",
    "    missClass_degrees.append([svm_degree_missClassif_i])\n",
    "\n",
    "plt.plot(missClass_degrees, linewidth=2)\n",
    "plt.grid()\n",
    "plt.show()\n",
    "\n",
    "kernel_minTEvalue = min(missClass)\n",
    "kernel_val = missClass_degrees.index(min(missClass_degrees))\n",
    "print('Lowest Testing error value: ', kernel_minTEvalue)\n",
    "print('Corresponding value of k: ', kernel_val)\n",
    "print(\"Polynomial Kernel of degree 1 gives the least testing error\")\n",
    "classifierObj_svm_degree_1 = SVC(kernel='poly', degree=1) \n",
    "\n"
   ]
  },
  {
   "cell_type": "markdown",
   "metadata": {},
   "source": [
    "## Q9) Model 4: Fit Naïve Bayes model. What is the testing error you get?"
   ]
  },
  {
   "cell_type": "code",
   "execution_count": 20,
   "metadata": {},
   "outputs": [
    {
     "name": "stdout",
     "output_type": "stream",
     "text": [
      "Naive Bayes: \n",
      " [[47  6  8  0]\n",
      " [25 10  5  4]\n",
      " [25 11 11  3]\n",
      " [22 13  1  9]]\n",
      "Model Accuracy:  0.385\n",
      "Misclassification Error:  0.615\n"
     ]
    }
   ],
   "source": [
    "# Q9) Model 4: Fit Naïve Bayes model. What is the testing error you get?\n",
    "# Make Classifier object called classifierObj\n",
    "from sklearn.naive_bayes  import GaussianNB\n",
    "classifierObj_naiBay = GaussianNB()\n",
    "classifierObj_naiBay.fit(X_train, y_train)\n",
    "\n",
    "#Making Predictions on the Test Set\n",
    "y_pred = classifierObj_naiBay.predict(X_test)\n",
    "\n",
    "#Evaluate predictions using a Confusion Matrix\n",
    "cm_naiBay = confusion_matrix(y_test, y_pred)\n",
    "print(\"Naive Bayes: \\n\",cm_naiBay)\n",
    "\n",
    "#model accuracy\n",
    "naiBay_accuracy = (cm_naiBay.diagonal().sum()/cm_naiBay.sum())\n",
    "print('Model Accuracy: ',naiBay_accuracy)\n",
    "\n",
    "#misclassification rate\n",
    "naiBay_missClassif = 1- naiBay_accuracy\n",
    "print('Misclassification Error: ',naiBay_missClassif)"
   ]
  },
  {
   "cell_type": "markdown",
   "metadata": {},
   "source": [
    "## Q10) Model 5: Fit Random Forest model. For Random Forest, you need to specify the number of trees (n_estimators). In order to figure that out, run Random Forest with different values of n_estimators and compute the testing misclassification rate. Plot a chart with n_estimators on X-axis and testing error on the Y-axis. What is the lowest value of testing error and corresponding value of n_estimators?"
   ]
  },
  {
   "cell_type": "code",
   "execution_count": 25,
   "metadata": {},
   "outputs": [
    {
     "data": {
      "image/png": "[encoded data removed]",
      "text/plain": [
       "<Figure size 432x288 with 1 Axes>"
      ]
     },
     "metadata": {},
     "output_type": "display_data"
    },
    {
     "name": "stdout",
     "output_type": "stream",
     "text": [
      "Lowest Testing error value:  [0.605]\n",
      "Corresponding value of n_estimators:  33\n",
      "Random Forest with 33  n_estimators gives the least testing error\n"
     ]
    }
   ],
   "source": [
    "missClass_randFor = []\n",
    "for i in range(1,100):\n",
    "    \n",
    "    # Make Classifier object called classifierObj\n",
    "    from sklearn.ensemble  import RandomForestClassifier\n",
    "    classifierObj_randFor_it = RandomForestClassifier(n_estimators=i, criterion='entropy')\n",
    "    classifierObj_randFor_it.fit(X_train, y_train)\n",
    "\n",
    "    #Making Predictions on the Test Set\n",
    "    y_pred = classifierObj_randFor_it.predict(X_test)\n",
    "\n",
    "    #Evaluate predictions using a Confusion Matrix\n",
    "    cm_randFor_it = confusion_matrix(y_test, y_pred)\n",
    "#     print(i, 'trees num \\n',cm_randFor_it)\n",
    "\n",
    "    #model accuracy\n",
    "    randFor_accuracy = (cm_randFor_it.diagonal().sum()/cm_randFor_it.sum())\n",
    "#     print(\"Model Accuracy:\" , randFor_accuracy)\n",
    "\n",
    "    #misclassification rate\n",
    "    randFor_missClassif = 1- randFor_accuracy\n",
    "#     print(\"Misclassification Error\",randFor_missClassif)\n",
    "    \n",
    "    missClass_randFor.append([randFor_missClassif])\n",
    "\n",
    "plt.plot(missClass_randFor, linewidth=2)\n",
    "plt.grid()\n",
    "plt.xticks(np.arange(0, 101, step=5))\n",
    "plt.yticks(np.arange(0.59, 0.775, step=0.01))\n",
    "plt.show()\n",
    "\n",
    "randFor_minTEvalue = min(missClass_randFor)\n",
    "randFor_val = missClass_randFor.index(min(missClass_randFor)) + 1\n",
    "print('Lowest Testing error value: ', randFor_minTEvalue)\n",
    "print('Corresponding value of n_estimators: ', randFor_val)\n",
    "print(\"Random Forest with\", randFor_val ,\" n_estimators gives the least testing error\")\n",
    "classifierObj_randFor_m5 = RandomForestClassifier(n_estimators=randFor_val, criterion='entropy')\n",
    "\n"
   ]
  },
  {
   "cell_type": "markdown",
   "metadata": {},
   "source": [
    "## Q11) Predicting with Ensemble: Now that you have built 5 models. Loop over the testing set. For every test instance, have each of the models predict the class label. Eventual class predicted will be based on a majority vote of the 5 models. What is the testing misclassification rate you get with the ensemble model?"
   ]
  },
  {
   "cell_type": "code",
   "execution_count": 26,
   "metadata": {},
   "outputs": [
    {
     "name": "stdout",
     "output_type": "stream",
     "text": [
      "Ensemble Confussion Matrix: \n",
      " [[35  6 16  4]\n",
      " [12  9 12 11]\n",
      " [15  5 26  4]\n",
      " [17 12  6 10]]\n",
      "Model Accuracy:  0.4\n",
      "Misclassification Rate:  0.6\n"
     ]
    }
   ],
   "source": [
    "#create empty array to store the five model predictions for each instance\n",
    "ensemble_pred = np.zeros(shape=(200,5))\n",
    "for i in range(0,len(X_test)):\n",
    "    \n",
    "    # Model 1\n",
    "    classifierObj_lr.fit(X_train, y_train)\n",
    "    #Making Predictions on the Test Set\n",
    "    y_pred_m1 = classifierObj_lr.predict(X_test[[i]])\n",
    "    ensemble_pred[i,0] = (y_pred_m1)\n",
    "\n",
    "    # Model 2\n",
    "    classifierObj_kNN_ensemble.fit(X_train, y_train)\n",
    "    #Making Predictions on the Test Set\n",
    "    y_pred_m2 = classifierObj_kNN_ensemble.predict(X_test[[i]])\n",
    "    ensemble_pred[i,1] = (y_pred_m2)\n",
    "\n",
    "\n",
    "    # Model 3\n",
    "    classifierObj_svm_degree_1    \n",
    "    classifierObj_svm_degree_1.fit(X_train, y_train)\n",
    "    #Making Predictions on the Test Set\n",
    "    y_pred_m3 = classifierObj_svm_degree_1.predict(X_test[[i]])\n",
    "    ensemble_pred[i,2] = (y_pred_m3)\n",
    "\n",
    "\n",
    "    # Model 4 \n",
    "    classifierObj_naiBay.fit(X_train, y_train)\n",
    "    #Making Predictions on the Test Set\n",
    "    y_pred_m4 = classifierObj_naiBay.predict(X_test[[i]])\n",
    "    ensemble_pred[i,3] = (y_pred_m4)\n",
    "\n",
    "\n",
    "    # Model 5\n",
    "    # Random Forest\n",
    "    classifierObj_randFor_m5.fit(X_train, y_train)\n",
    "    #Making Predictions on the Test Set\n",
    "    y_pred_m5 = classifierObj_randFor_m5.predict(X_test[[i]])\n",
    "    ensemble_pred[i,4] = (y_pred_m5)\n",
    "\n",
    "# convert data types to int\n",
    "ensemble_pred = ensemble_pred.astype('int64')\n",
    "#create empty list to store the voted class from the ensemble model\n",
    "voted_pred = []\n",
    "# vote on majority predicted by ensemble\n",
    "for i in range(0,len(ensemble_pred)):\n",
    "    value_vote = np.bincount(ensemble_pred[i,:]).argmax()\n",
    "    voted_pred.append(value_vote)\n",
    "    \n",
    "# print(\"Ensemble prediction votes: \\n\",voted_pred)\n",
    "\n",
    "cm_ensemble = confusion_matrix(y_test, voted_pred)\n",
    "print(\"Ensemble Confussion Matrix: \\n\",cm_ensemble)\n",
    "\n",
    "#model accuracy\n",
    "ensemble_accuracy = (cm_ensemble.diagonal().sum()/cm_ensemble.sum())\n",
    "print(\"Model Accuracy: \",ensemble_accuracy)\n",
    "\n",
    "#misclassification rate\n",
    "ensemble_missClassif = 1- ensemble_accuracy\n",
    "print(\"Misclassification Rate: \",ensemble_missClassif)"
   ]
  },
  {
   "cell_type": "code",
   "execution_count": null,
   "metadata": {},
   "outputs": [],
   "source": []
  }
 ],
 "metadata": {
  "kernelspec": {
   "display_name": "Python 3",
   "language": "python",
   "name": "python3"
  },
  "language_info": {
   "codemirror_mode": {
    "name": "ipython",
    "version": 3
   },
   "file_extension": ".py",
   "mimetype": "text/x-python",
   "name": "python",
   "nbconvert_exporter": "python",
   "pygments_lexer": "ipython3",
   "version": "3.6.5"
  }
 },
 "nbformat": 4,
 "nbformat_minor": 2
}
