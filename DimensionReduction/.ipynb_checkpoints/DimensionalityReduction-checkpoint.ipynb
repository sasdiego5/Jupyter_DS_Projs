{
 "cells": [
  {
   "cell_type": "markdown",
   "metadata": {},
   "source": [
    "## Diego Orejuela\n",
    "## Machine Learning Project"
   ]
  },
  {
   "cell_type": "markdown",
   "metadata": {},
   "source": [
    "## Perform dimensionality reduction using PCA, LDA, and Kernel PCA.\n",
    "Dataset: breast cancer dataset that scikit learn provides.\n",
    "* Number of Instances: 569\n",
    "* Number of Attributes: 30\n",
    "* Number of classes: 2\n",
    "* Read user guide to learn about the dataset. The dataset can be accessed and loaded by doing:\n",
    "    \n",
    "    from sklearn.datasets import load_breast_cancer \n",
    "    \n",
    "    df = load_breast_cancer()\n"
   ]
  },
  {
   "cell_type": "markdown",
   "metadata": {},
   "source": [
    "## Load the dataset and split it into a training set (70%) and a test set (30%)."
   ]
  },
  {
   "cell_type": "code",
   "execution_count": 1,
   "metadata": {},
   "outputs": [],
   "source": [
    "#Loading the dataset\n",
    "from sklearn.datasets import load_breast_cancer \n",
    "dataset = load_breast_cancer()\n",
    "\n",
    "X = dataset.data\n",
    "y = dataset.target\n",
    "\n",
    "#split data into Training and Test set\n",
    "from sklearn.model_selection import train_test_split\n",
    "X_train, X_test, y_train, y_test = train_test_split(X, y, test_size = 0.3, random_state = 0)\n",
    "\n",
    "#Normalizing the features\n",
    "from sklearn.preprocessing import StandardScaler\n",
    "sc_X = StandardScaler()\n",
    "X_train = sc_X.fit_transform(X_train)\n",
    "X_test = sc_X.transform(X_test)"
   ]
  },
  {
   "cell_type": "markdown",
   "metadata": {},
   "source": [
    "## Train Logistic Regression on the dataset and time how long it takes."
   ]
  },
  {
   "cell_type": "code",
   "execution_count": 2,
   "metadata": {},
   "outputs": [
    {
     "name": "stdout",
     "output_type": "stream",
     "text": [
      "Logistic Regression training took:  0.7268662452697754 seconds \n",
      "\n"
     ]
    }
   ],
   "source": [
    "import time\n",
    "start_time_lr = time.time()\n",
    "\n",
    "# Fitting Logistic Regression to Training Set\n",
    "from sklearn.linear_model import LogisticRegression\n",
    "classifierObj = LogisticRegression(random_state=0)\n",
    "classifierObj.fit(X_train, y_train)\n",
    "\n",
    "# Execution time of logistic regression\n",
    "elapsed_time_lr = time.time() - start_time_lr\n",
    "print(\"Logistic Regression training took: \", elapsed_time_lr, \"seconds \\n\")\n"
   ]
  },
  {
   "cell_type": "markdown",
   "metadata": {},
   "source": [
    "## Evaluate the resulting model on the test set."
   ]
  },
  {
   "cell_type": "code",
   "execution_count": 3,
   "metadata": {},
   "outputs": [
    {
     "name": "stdout",
     "output_type": "stream",
     "text": [
      "Confussion Matrix \n",
      " [[ 60   3]\n",
      " [  1 107]] \n",
      "\n",
      "Model Accuracy:  97.6608187134503\n",
      "Misclassification Rate:  2.3391812865497075\n"
     ]
    }
   ],
   "source": [
    "# Making Predictions on the Test Set\n",
    "y_pred_lr = classifierObj.predict(X_test)\n",
    "\n",
    "#Evaluate predictions using a Confusion Matrix\n",
    "from sklearn.metrics import confusion_matrix\n",
    "cm_lr = confusion_matrix(y_test, y_pred_lr)\n",
    "print(\"Confussion Matrix \\n\", cm_lr, \"\\n\")\n",
    "\n",
    "#model accuracy\n",
    "lr_ModAcc = ((cm_lr.diagonal().sum()/cm_lr.sum()))\n",
    "print('Model Accuracy: ', lr_ModAcc*100)\n",
    "\n",
    "#misclassification rate\n",
    "lr_MiscRate = 1- lr_ModAcc\n",
    "print(\"Misclassification Rate: \", lr_MiscRate*100)"
   ]
  },
  {
   "cell_type": "markdown",
   "metadata": {},
   "source": [
    "## Use PCA to reduce the dataset’s dimensionality, with an explained variance ratio of at least 95%."
   ]
  },
  {
   "cell_type": "code",
   "execution_count": 4,
   "metadata": {},
   "outputs": [
    {
     "name": "stdout",
     "output_type": "stream",
     "text": [
      "Explained variance ratio of at least 95%:\n",
      "95.14149471124793\n"
     ]
    },
    {
     "data": {
      "text/plain": [
       "array([0.43689315, 0.19415163, 0.09661545, 0.06716611, 0.0549883 ,\n",
       "       0.04012257, 0.02183068, 0.01489226, 0.01374108, 0.01101371])"
      ]
     },
     "execution_count": 4,
     "metadata": {},
     "output_type": "execute_result"
    }
   ],
   "source": [
    "#Applying PCA\n",
    "from sklearn.decomposition import PCA\n",
    "\n",
    "# initially choose None to not exclude any values\n",
    "pcaObj = PCA(n_components = None) \n",
    "\n",
    "X_train_PCA = pcaObj.fit_transform(X_train)\n",
    "X_test_PCA = pcaObj.transform(X_test)\n",
    "# explained_variance_ratio_ returns a sorted array on the variance of each feature\n",
    "components_variance_PCA = pcaObj.explained_variance_ratio_\n",
    "\n",
    "#variance captured with chosen number of components\n",
    "print('Explained variance ratio of at least 95%:')\n",
    "print(sum(components_variance_PCA[0:10]*100))\n",
    "\n",
    "#Applying PCA with 95% explained variance ratio, 10 components\n",
    "pcaObj = PCA(n_components = 10) \n",
    "X_train_PCA = pcaObj.fit_transform(X_train)\n",
    "X_test_PCA = pcaObj.transform(X_test)\n",
    "components_variance_PCA = pcaObj.explained_variance_ratio_\n",
    "components_variance_PCA"
   ]
  },
  {
   "cell_type": "markdown",
   "metadata": {},
   "source": [
    "## Train a new Logistic Regression classifier on the PCA reduced dataset and time how long it takes. Was training much faster?"
   ]
  },
  {
   "cell_type": "code",
   "execution_count": 5,
   "metadata": {},
   "outputs": [
    {
     "name": "stdout",
     "output_type": "stream",
     "text": [
      "Logistic Regression with PCA took:  0.002975940704345703  seconds \n",
      "\n"
     ]
    }
   ],
   "source": [
    "import time\n",
    "start_time_PCA = time.time()\n",
    "\n",
    "classifierObj_PCA = LogisticRegression(random_state=0)\n",
    "classifierObj_PCA.fit(X_train_PCA, y_train)\n",
    "\n",
    "# Execution time of logistic regression\n",
    "elapsed_time_PCA = time.time() - start_time_PCA\n",
    "print(\"Logistic Regression with PCA took: \", elapsed_time_PCA , \" seconds \\n\")"
   ]
  },
  {
   "cell_type": "markdown",
   "metadata": {},
   "source": [
    "## Next evaluate the classifier on the test set: how does it compare to the previous classifier?"
   ]
  },
  {
   "cell_type": "code",
   "execution_count": 6,
   "metadata": {},
   "outputs": [
    {
     "name": "stdout",
     "output_type": "stream",
     "text": [
      "Confussion Matrix \n",
      " [[ 60   3]\n",
      " [  4 104]] \n",
      "\n",
      "Model Accuracy:  95.90643274853801\n",
      "Misclassification Rate:  4.093567251461994\n"
     ]
    }
   ],
   "source": [
    "#Making Predictions on the Test Set\n",
    "y_pred_PCA = classifierObj_PCA.predict(X_test_PCA)\n",
    "\n",
    "#Evaluate predictions using a Confusion Matrix\n",
    "from sklearn.metrics import confusion_matrix\n",
    "cm_PCA = confusion_matrix(y_test, y_pred_PCA)\n",
    "print(\"Confussion Matrix \\n\", cm_PCA, \"\\n\")\n",
    "\n",
    "PCA_ModAcc = ((cm_PCA.diagonal().sum()/cm_PCA.sum()))\n",
    "print('Model Accuracy: ', PCA_ModAcc*100)\n",
    "#misclassification rate\n",
    "PCA_MiscRate = 1- PCA_ModAcc\n",
    "print(\"Misclassification Rate: \", PCA_MiscRate*100)"
   ]
  },
  {
   "cell_type": "markdown",
   "metadata": {},
   "source": [
    "## Use LDA to reduce the dataset’s dimensionality down to 2 linear discriminants."
   ]
  },
  {
   "cell_type": "code",
   "execution_count": 7,
   "metadata": {},
   "outputs": [],
   "source": [
    "#Applying LDA\n",
    "from sklearn.discriminant_analysis import LinearDiscriminantAnalysis as LDA\n",
    "ldaObj = LDA(n_components=2) \n",
    "# fit_transform method intakes both X_train and y_train since LDA is unsupervised\n",
    "X_train_LDA = ldaObj.fit_transform(X_train, y_train)\n",
    "X_test_LDA = ldaObj.transform(X_test)"
   ]
  },
  {
   "cell_type": "markdown",
   "metadata": {},
   "source": [
    "## Train a new Logistic Regression classifier on the LDA reduced dataset and time how long it takes."
   ]
  },
  {
   "cell_type": "code",
   "execution_count": 8,
   "metadata": {},
   "outputs": [
    {
     "name": "stdout",
     "output_type": "stream",
     "text": [
      "Logistic Regression with LDA took:  0.0023632049560546875 seconds \n",
      "\n"
     ]
    }
   ],
   "source": [
    "start_time_LDA = time.time()\n",
    "# Fitting Logistic Regression to Training Set\n",
    "classifierObj_LDA = LogisticRegression(random_state=0)\n",
    "classifierObj_LDA.fit(X_train_LDA, y_train)\n",
    "\n",
    "# Execution time of logistic regression\n",
    "elapsed_time_LDA = time.time() - start_time_LDA\n",
    "print(\"Logistic Regression with LDA took: \", elapsed_time_LDA, \"seconds \\n\")"
   ]
  },
  {
   "cell_type": "markdown",
   "metadata": {},
   "source": [
    "## Evaluate the classifier on the test set."
   ]
  },
  {
   "cell_type": "code",
   "execution_count": 9,
   "metadata": {},
   "outputs": [
    {
     "name": "stdout",
     "output_type": "stream",
     "text": [
      "Confussion Matrix \n",
      " [[ 59   4]\n",
      " [  2 106]] \n",
      "\n",
      "Model Accuracy:  96.49122807017544\n",
      "Misclassification Rate:  3.508771929824561\n"
     ]
    }
   ],
   "source": [
    "#Making Predictions on the Test Set\n",
    "y_pred_LDA = classifierObj_LDA.predict(X_test_LDA)\n",
    "\n",
    "#Evaluate predictions using a Confusion Matrix\n",
    "from sklearn.metrics import confusion_matrix\n",
    "cm_LDA = confusion_matrix(y_test, y_pred_LDA)\n",
    "print(\"Confussion Matrix \\n\", cm_LDA, \"\\n\")\n",
    "\n",
    "LDA_ModAcc = ((cm_LDA.diagonal().sum()/cm_LDA.sum()))\n",
    "print('Model Accuracy: ', LDA_ModAcc*100)\n",
    "#misclassification rate\n",
    "LDA_MiscRate = 1- LDA_ModAcc\n",
    "print(\"Misclassification Rate: \", LDA_MiscRate*100)"
   ]
  },
  {
   "cell_type": "markdown",
   "metadata": {},
   "source": [
    "## Use Kernel PCA to reduce the dataset’s dimensionality down to 2 features."
   ]
  },
  {
   "cell_type": "code",
   "execution_count": 10,
   "metadata": {},
   "outputs": [],
   "source": [
    "# kernelPCA\n",
    "from sklearn.decomposition import KernelPCA\n",
    "kernelPCAObj = KernelPCA(n_components=2, kernel='rbf')\n",
    "X_train_kPCA = kernelPCAObj.fit_transform(X_train)\n",
    "X_test_kPCA = kernelPCAObj.transform(X_test)"
   ]
  },
  {
   "cell_type": "markdown",
   "metadata": {},
   "source": [
    "## Train a new Logistic Regression classifier on the Kernel PCA reduced dataset and time how long it takes."
   ]
  },
  {
   "cell_type": "code",
   "execution_count": 11,
   "metadata": {},
   "outputs": [
    {
     "name": "stdout",
     "output_type": "stream",
     "text": [
      "Logistic Regression with PCA took:  0.0019910335540771484  seconds \n",
      "\n"
     ]
    }
   ],
   "source": [
    "start_time_kPCA = time.time()\n",
    "\n",
    "# Fitting Logistic Regression to Training Set\n",
    "classifierObj_kPCA = LogisticRegression(random_state=0)\n",
    "classifierObj_kPCA.fit(X_train_kPCA, y_train)\n",
    "\n",
    "# Execution time of logistic regression\n",
    "elapsed_time_kPCA = time.time() - start_time_kPCA\n",
    "print(\"Logistic Regression with PCA took: \", elapsed_time_kPCA, \" seconds \\n\")\n"
   ]
  },
  {
   "cell_type": "markdown",
   "metadata": {},
   "source": [
    "## Evaluate the classifier on the test set."
   ]
  },
  {
   "cell_type": "code",
   "execution_count": 12,
   "metadata": {},
   "outputs": [
    {
     "name": "stdout",
     "output_type": "stream",
     "text": [
      "Confussion Matrix \n",
      " [[56  7]\n",
      " [10 98]] \n",
      "\n",
      "Model Accuracy:  90.05847953216374\n",
      "Misclassification Rate:  9.941520467836263\n"
     ]
    }
   ],
   "source": [
    "#Making Predictions on the Test Set\n",
    "y_pred_kPCA = classifierObj_kPCA.predict(X_test_kPCA)\n",
    "\n",
    "#Evaluate predictions using a Confusion Matrix\n",
    "from sklearn.metrics import confusion_matrix\n",
    "cm_kPCA = confusion_matrix(y_test, y_pred_kPCA)\n",
    "print(\"Confussion Matrix \\n\", cm_kPCA, \"\\n\")\n",
    "\n",
    "kPCA_ModAcc = ((cm_kPCA.diagonal().sum()/cm_kPCA.sum()))\n",
    "print('Model Accuracy: ', kPCA_ModAcc*100)\n",
    "#misclassification rate\n",
    "kPCA_MiscRate = 1- kPCA_ModAcc\n",
    "print(\"Misclassification Rate: \", kPCA_MiscRate*100)"
   ]
  },
  {
   "cell_type": "markdown",
   "metadata": {},
   "source": [
    "## Conclusions:\n",
    "\n",
    "* Logistic Regression without any dimensionality reduction technique was the most accurate predictor with 2.4% misclassification rate, but it was training took longer\n",
    "* Although The execution time of the PCA reduced dataset was much faster than the dataset without any dimensionality reduction technique applied, the misclassification rate increased to 4%\n",
    "* LDA reduction trained the model in a similar amount of time as PCA and resulted a 3.5% misclassification rate\n",
    "* Kernel PCA reduction had the misclassification rate increase to 9.9%\n",
    "* PCA, LDA and Kernel PCA had a similar amount of execution time"
   ]
  }
 ],
 "metadata": {
  "kernelspec": {
   "display_name": "Python 3",
   "language": "python",
   "name": "python3"
  },
  "language_info": {
   "codemirror_mode": {
    "name": "ipython",
    "version": 3
   },
   "file_extension": ".py",
   "mimetype": "text/x-python",
   "name": "python",
   "nbconvert_exporter": "python",
   "pygments_lexer": "ipython3",
   "version": "3.6.5"
  }
 },
 "nbformat": 4,
 "nbformat_minor": 2
}
